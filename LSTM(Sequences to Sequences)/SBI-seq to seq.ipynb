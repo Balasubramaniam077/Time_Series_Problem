{
 "cells": [
  {
   "cell_type": "code",
   "execution_count": 1,
   "metadata": {
    "colab": {
     "base_uri": "https://localhost:8080/"
    },
    "id": "cM3d5mwvRNsM",
    "outputId": "343c13bb-8437-4ca5-8faf-4ddfcef24938"
   },
   "outputs": [
    {
     "name": "stdout",
     "output_type": "stream",
     "text": [
      "Wed Mar  9 12:00:33 2022       \n",
      "+-----------------------------------------------------------------------------+\n",
      "| NVIDIA-SMI 462.30       Driver Version: 462.30       CUDA Version: 11.2     |\n",
      "|-------------------------------+----------------------+----------------------+\n",
      "| GPU  Name            TCC/WDDM | Bus-Id        Disp.A | Volatile Uncorr. ECC |\n",
      "| Fan  Temp  Perf  Pwr:Usage/Cap|         Memory-Usage | GPU-Util  Compute M. |\n",
      "|                               |                      |               MIG M. |\n",
      "|===============================+======================+======================|\n",
      "|   0  GeForce MX130      WDDM  | 00000000:01:00.0 Off |                  N/A |\n",
      "| N/A   53C    P8    N/A /  N/A |    146MiB /  2048MiB |     16%      Default |\n",
      "|                               |                      |                  N/A |\n",
      "+-------------------------------+----------------------+----------------------+\n",
      "                                                                               \n",
      "+-----------------------------------------------------------------------------+\n",
      "| Processes:                                                                  |\n",
      "|  GPU   GI   CI        PID   Type   Process name                  GPU Memory |\n",
      "|        ID   ID                                                   Usage      |\n",
      "|=============================================================================|\n",
      "|    0   N/A  N/A      4576    C+G   ...ser\\Application\\brave.exe    N/A      |\n",
      "|    0   N/A  N/A      4748    C+G   ...zpdnekdrzrea0\\Spotify.exe    N/A      |\n",
      "|    0   N/A  N/A      9096    C+G   ...artMenuExperienceHost.exe    N/A      |\n",
      "|    0   N/A  N/A      9980    C+G   Insufficient Permissions        N/A      |\n",
      "|    0   N/A  N/A     10616    C+G   ...5n1h2txyewy\\SearchApp.exe    N/A      |\n",
      "|    0   N/A  N/A     11508    C+G   ...2txyewy\\TextInputHost.exe    N/A      |\n",
      "|    0   N/A  N/A     12284    C+G   ...8wekyb3d8bbwe\\Cortana.exe    N/A      |\n",
      "|    0   N/A  N/A     15052    C+G   ...ekyb3d8bbwe\\YourPhone.exe    N/A      |\n",
      "+-----------------------------------------------------------------------------+\n"
     ]
    }
   ],
   "source": [
    "!nvidia-smi"
   ]
  },
  {
   "cell_type": "code",
   "execution_count": 2,
   "metadata": {
    "id": "8swYtvk3QS54"
   },
   "outputs": [],
   "source": [
    "import numpy as np\n",
    "import pandas as pd\n",
    "import matplotlib.pyplot as plt\n",
    "#import pandas_datareader as data"
   ]
  },
  {
   "cell_type": "code",
   "execution_count": 4,
   "metadata": {
    "colab": {
     "base_uri": "https://localhost:8080/",
     "height": 206
    },
    "id": "9HDaDjv0UP01",
    "outputId": "ef1806bb-1d0a-4749-fd19-96dc9a2995a2",
    "scrolled": true
   },
   "outputs": [
    {
     "data": {
      "text/html": [
       "<div>\n",
       "<style scoped>\n",
       "    .dataframe tbody tr th:only-of-type {\n",
       "        vertical-align: middle;\n",
       "    }\n",
       "\n",
       "    .dataframe tbody tr th {\n",
       "        vertical-align: top;\n",
       "    }\n",
       "\n",
       "    .dataframe thead th {\n",
       "        text-align: right;\n",
       "    }\n",
       "</style>\n",
       "<table border=\"1\" class=\"dataframe\">\n",
       "  <thead>\n",
       "    <tr style=\"text-align: right;\">\n",
       "      <th></th>\n",
       "      <th>Date</th>\n",
       "      <th>Open</th>\n",
       "      <th>High</th>\n",
       "      <th>Low</th>\n",
       "      <th>Close</th>\n",
       "      <th>Adj Close</th>\n",
       "      <th>Volume</th>\n",
       "    </tr>\n",
       "  </thead>\n",
       "  <tbody>\n",
       "    <tr>\n",
       "      <th>0</th>\n",
       "      <td>2021-03-02</td>\n",
       "      <td>395.000000</td>\n",
       "      <td>399.549988</td>\n",
       "      <td>390.549988</td>\n",
       "      <td>394.200012</td>\n",
       "      <td>390.593842</td>\n",
       "      <td>30534337</td>\n",
       "    </tr>\n",
       "    <tr>\n",
       "      <th>1</th>\n",
       "      <td>2021-03-03</td>\n",
       "      <td>396.500000</td>\n",
       "      <td>408.899994</td>\n",
       "      <td>396.000000</td>\n",
       "      <td>405.049988</td>\n",
       "      <td>401.344574</td>\n",
       "      <td>46268223</td>\n",
       "    </tr>\n",
       "    <tr>\n",
       "      <th>2</th>\n",
       "      <td>2021-03-04</td>\n",
       "      <td>398.700012</td>\n",
       "      <td>403.500000</td>\n",
       "      <td>394.450012</td>\n",
       "      <td>395.649994</td>\n",
       "      <td>392.030579</td>\n",
       "      <td>43603653</td>\n",
       "    </tr>\n",
       "    <tr>\n",
       "      <th>3</th>\n",
       "      <td>2021-03-05</td>\n",
       "      <td>395.000000</td>\n",
       "      <td>395.000000</td>\n",
       "      <td>378.100006</td>\n",
       "      <td>383.649994</td>\n",
       "      <td>380.140350</td>\n",
       "      <td>72179228</td>\n",
       "    </tr>\n",
       "    <tr>\n",
       "      <th>4</th>\n",
       "      <td>2021-03-08</td>\n",
       "      <td>388.450012</td>\n",
       "      <td>393.399994</td>\n",
       "      <td>386.049988</td>\n",
       "      <td>389.600006</td>\n",
       "      <td>386.035919</td>\n",
       "      <td>39147858</td>\n",
       "    </tr>\n",
       "  </tbody>\n",
       "</table>\n",
       "</div>"
      ],
      "text/plain": [
       "         Date        Open        High         Low       Close   Adj Close  \\\n",
       "0  2021-03-02  395.000000  399.549988  390.549988  394.200012  390.593842   \n",
       "1  2021-03-03  396.500000  408.899994  396.000000  405.049988  401.344574   \n",
       "2  2021-03-04  398.700012  403.500000  394.450012  395.649994  392.030579   \n",
       "3  2021-03-05  395.000000  395.000000  378.100006  383.649994  380.140350   \n",
       "4  2021-03-08  388.450012  393.399994  386.049988  389.600006  386.035919   \n",
       "\n",
       "     Volume  \n",
       "0  30534337  \n",
       "1  46268223  \n",
       "2  43603653  \n",
       "3  72179228  \n",
       "4  39147858  "
      ]
     },
     "execution_count": 4,
     "metadata": {},
     "output_type": "execute_result"
    }
   ],
   "source": [
    "df=pd.read_csv(\"C:/Users/NAViN/zmarket/SBIN.NS.csv\")\n",
    "df.head(5)"
   ]
  },
  {
   "cell_type": "code",
   "execution_count": 5,
   "metadata": {
    "colab": {
     "base_uri": "https://localhost:8080/",
     "height": 81
    },
    "id": "OoYOKRU0U0r3",
    "outputId": "41cf4048-6a63-42e5-d5dc-1987d5ca56f5"
   },
   "outputs": [
    {
     "data": {
      "text/html": [
       "<div>\n",
       "<style scoped>\n",
       "    .dataframe tbody tr th:only-of-type {\n",
       "        vertical-align: middle;\n",
       "    }\n",
       "\n",
       "    .dataframe tbody tr th {\n",
       "        vertical-align: top;\n",
       "    }\n",
       "\n",
       "    .dataframe thead th {\n",
       "        text-align: right;\n",
       "    }\n",
       "</style>\n",
       "<table border=\"1\" class=\"dataframe\">\n",
       "  <thead>\n",
       "    <tr style=\"text-align: right;\">\n",
       "      <th></th>\n",
       "      <th>Date</th>\n",
       "      <th>Open</th>\n",
       "      <th>High</th>\n",
       "      <th>Low</th>\n",
       "      <th>Close</th>\n",
       "      <th>Adj Close</th>\n",
       "      <th>Volume</th>\n",
       "    </tr>\n",
       "  </thead>\n",
       "  <tbody>\n",
       "    <tr>\n",
       "      <th>247</th>\n",
       "      <td>2022-03-02</td>\n",
       "      <td>478.0</td>\n",
       "      <td>479.799988</td>\n",
       "      <td>467.0</td>\n",
       "      <td>474.25</td>\n",
       "      <td>474.25</td>\n",
       "      <td>21977805</td>\n",
       "    </tr>\n",
       "  </tbody>\n",
       "</table>\n",
       "</div>"
      ],
      "text/plain": [
       "           Date   Open        High    Low   Close  Adj Close    Volume\n",
       "247  2022-03-02  478.0  479.799988  467.0  474.25     474.25  21977805"
      ]
     },
     "execution_count": 5,
     "metadata": {},
     "output_type": "execute_result"
    }
   ],
   "source": [
    "df.tail(1)"
   ]
  },
  {
   "cell_type": "code",
   "execution_count": 6,
   "metadata": {
    "id": "xXLSg7qzRNpi"
   },
   "outputs": [
    {
     "data": {
      "text/plain": [
       "<AxesSubplot:>"
      ]
     },
     "execution_count": 6,
     "metadata": {},
     "output_type": "execute_result"
    },
    {
     "data": {
      "image/png": "[encoded data removed]",
      "text/plain": [
       "<Figure size 864x288 with 1 Axes>"
      ]
     },
     "metadata": {
      "needs_background": "light"
     },
     "output_type": "display_data"
    }
   ],
   "source": [
    "df['Close'].plot(figsize=(12,4))"
   ]
  },
  {
   "cell_type": "code",
   "execution_count": 7,
   "metadata": {
    "colab": {
     "base_uri": "https://localhost:8080/",
     "height": 206
    },
    "id": "URce86hkVQOR",
    "outputId": "58e79605-3d55-4f1b-fa9a-4427cfeebd13"
   },
   "outputs": [
    {
     "data": {
      "text/html": [
       "<div>\n",
       "<style scoped>\n",
       "    .dataframe tbody tr th:only-of-type {\n",
       "        vertical-align: middle;\n",
       "    }\n",
       "\n",
       "    .dataframe tbody tr th {\n",
       "        vertical-align: top;\n",
       "    }\n",
       "\n",
       "    .dataframe thead th {\n",
       "        text-align: right;\n",
       "    }\n",
       "</style>\n",
       "<table border=\"1\" class=\"dataframe\">\n",
       "  <thead>\n",
       "    <tr style=\"text-align: right;\">\n",
       "      <th></th>\n",
       "      <th>Open</th>\n",
       "      <th>High</th>\n",
       "      <th>Low</th>\n",
       "      <th>Close</th>\n",
       "      <th>Volume</th>\n",
       "    </tr>\n",
       "  </thead>\n",
       "  <tbody>\n",
       "    <tr>\n",
       "      <th>0</th>\n",
       "      <td>395.000000</td>\n",
       "      <td>399.549988</td>\n",
       "      <td>390.549988</td>\n",
       "      <td>394.200012</td>\n",
       "      <td>30534337</td>\n",
       "    </tr>\n",
       "    <tr>\n",
       "      <th>1</th>\n",
       "      <td>396.500000</td>\n",
       "      <td>408.899994</td>\n",
       "      <td>396.000000</td>\n",
       "      <td>405.049988</td>\n",
       "      <td>46268223</td>\n",
       "    </tr>\n",
       "    <tr>\n",
       "      <th>2</th>\n",
       "      <td>398.700012</td>\n",
       "      <td>403.500000</td>\n",
       "      <td>394.450012</td>\n",
       "      <td>395.649994</td>\n",
       "      <td>43603653</td>\n",
       "    </tr>\n",
       "    <tr>\n",
       "      <th>3</th>\n",
       "      <td>395.000000</td>\n",
       "      <td>395.000000</td>\n",
       "      <td>378.100006</td>\n",
       "      <td>383.649994</td>\n",
       "      <td>72179228</td>\n",
       "    </tr>\n",
       "    <tr>\n",
       "      <th>4</th>\n",
       "      <td>388.450012</td>\n",
       "      <td>393.399994</td>\n",
       "      <td>386.049988</td>\n",
       "      <td>389.600006</td>\n",
       "      <td>39147858</td>\n",
       "    </tr>\n",
       "  </tbody>\n",
       "</table>\n",
       "</div>"
      ],
      "text/plain": [
       "         Open        High         Low       Close    Volume\n",
       "0  395.000000  399.549988  390.549988  394.200012  30534337\n",
       "1  396.500000  408.899994  396.000000  405.049988  46268223\n",
       "2  398.700012  403.500000  394.450012  395.649994  43603653\n",
       "3  395.000000  395.000000  378.100006  383.649994  72179228\n",
       "4  388.450012  393.399994  386.049988  389.600006  39147858"
      ]
     },
     "execution_count": 7,
     "metadata": {},
     "output_type": "execute_result"
    }
   ],
   "source": [
    "df =df.drop(['Date','Adj Close'],axis = 1)\n",
    "df.head()"
   ]
  },
  {
   "cell_type": "code",
   "execution_count": 8,
   "metadata": {
    "colab": {
     "base_uri": "https://localhost:8080/",
     "height": 286
    },
    "id": "L_kFEfKWVpg8",
    "outputId": "152d1f6c-16ed-43d5-d4c3-d7c9ce8a5488"
   },
   "outputs": [
    {
     "data": {
      "text/plain": [
       "<AxesSubplot:>"
      ]
     },
     "execution_count": 8,
     "metadata": {},
     "output_type": "execute_result"
    },
    {
     "data": {
      "image/png": "[encoded data removed]",
      "text/plain": [
       "<Figure size 864x288 with 1 Axes>"
      ]
     },
     "metadata": {
      "needs_background": "light"
     },
     "output_type": "display_data"
    }
   ],
   "source": [
    "#plt.plot(df.Close)\n",
    "#ploting the max high at the time series data\n",
    "df['High'].plot(figsize=(12,4))"
   ]
  },
  {
   "cell_type": "code",
   "execution_count": 9,
   "metadata": {
    "colab": {
     "base_uri": "https://localhost:8080/",
     "height": 423
    },
    "id": "fWd1DdUlV1q5",
    "outputId": "a7f52094-8d5f-46bf-ec85-5ba86a778ff6"
   },
   "outputs": [
    {
     "data": {
      "text/html": [
       "<div>\n",
       "<style scoped>\n",
       "    .dataframe tbody tr th:only-of-type {\n",
       "        vertical-align: middle;\n",
       "    }\n",
       "\n",
       "    .dataframe tbody tr th {\n",
       "        vertical-align: top;\n",
       "    }\n",
       "\n",
       "    .dataframe thead th {\n",
       "        text-align: right;\n",
       "    }\n",
       "</style>\n",
       "<table border=\"1\" class=\"dataframe\">\n",
       "  <thead>\n",
       "    <tr style=\"text-align: right;\">\n",
       "      <th></th>\n",
       "      <th>Open</th>\n",
       "      <th>High</th>\n",
       "      <th>Low</th>\n",
       "      <th>Close</th>\n",
       "      <th>Volume</th>\n",
       "    </tr>\n",
       "  </thead>\n",
       "  <tbody>\n",
       "    <tr>\n",
       "      <th>0</th>\n",
       "      <td>395.000000</td>\n",
       "      <td>399.549988</td>\n",
       "      <td>390.549988</td>\n",
       "      <td>394.200012</td>\n",
       "      <td>30534337</td>\n",
       "    </tr>\n",
       "    <tr>\n",
       "      <th>1</th>\n",
       "      <td>396.500000</td>\n",
       "      <td>408.899994</td>\n",
       "      <td>396.000000</td>\n",
       "      <td>405.049988</td>\n",
       "      <td>46268223</td>\n",
       "    </tr>\n",
       "    <tr>\n",
       "      <th>2</th>\n",
       "      <td>398.700012</td>\n",
       "      <td>403.500000</td>\n",
       "      <td>394.450012</td>\n",
       "      <td>395.649994</td>\n",
       "      <td>43603653</td>\n",
       "    </tr>\n",
       "    <tr>\n",
       "      <th>3</th>\n",
       "      <td>395.000000</td>\n",
       "      <td>395.000000</td>\n",
       "      <td>378.100006</td>\n",
       "      <td>383.649994</td>\n",
       "      <td>72179228</td>\n",
       "    </tr>\n",
       "    <tr>\n",
       "      <th>4</th>\n",
       "      <td>388.450012</td>\n",
       "      <td>393.399994</td>\n",
       "      <td>386.049988</td>\n",
       "      <td>389.600006</td>\n",
       "      <td>39147858</td>\n",
       "    </tr>\n",
       "    <tr>\n",
       "      <th>...</th>\n",
       "      <td>...</td>\n",
       "      <td>...</td>\n",
       "      <td>...</td>\n",
       "      <td>...</td>\n",
       "      <td>...</td>\n",
       "    </tr>\n",
       "    <tr>\n",
       "      <th>243</th>\n",
       "      <td>503.000000</td>\n",
       "      <td>505.350006</td>\n",
       "      <td>497.250000</td>\n",
       "      <td>498.700012</td>\n",
       "      <td>13899433</td>\n",
       "    </tr>\n",
       "    <tr>\n",
       "      <th>244</th>\n",
       "      <td>480.000000</td>\n",
       "      <td>487.950012</td>\n",
       "      <td>468.000000</td>\n",
       "      <td>472.649994</td>\n",
       "      <td>32356037</td>\n",
       "    </tr>\n",
       "    <tr>\n",
       "      <th>245</th>\n",
       "      <td>480.000000</td>\n",
       "      <td>491.899994</td>\n",
       "      <td>479.299988</td>\n",
       "      <td>482.950012</td>\n",
       "      <td>21792287</td>\n",
       "    </tr>\n",
       "    <tr>\n",
       "      <th>246</th>\n",
       "      <td>476.899994</td>\n",
       "      <td>485.299988</td>\n",
       "      <td>473.100006</td>\n",
       "      <td>483.200012</td>\n",
       "      <td>18069367</td>\n",
       "    </tr>\n",
       "    <tr>\n",
       "      <th>247</th>\n",
       "      <td>478.000000</td>\n",
       "      <td>479.799988</td>\n",
       "      <td>467.000000</td>\n",
       "      <td>474.250000</td>\n",
       "      <td>21977805</td>\n",
       "    </tr>\n",
       "  </tbody>\n",
       "</table>\n",
       "<p>248 rows × 5 columns</p>\n",
       "</div>"
      ],
      "text/plain": [
       "           Open        High         Low       Close    Volume\n",
       "0    395.000000  399.549988  390.549988  394.200012  30534337\n",
       "1    396.500000  408.899994  396.000000  405.049988  46268223\n",
       "2    398.700012  403.500000  394.450012  395.649994  43603653\n",
       "3    395.000000  395.000000  378.100006  383.649994  72179228\n",
       "4    388.450012  393.399994  386.049988  389.600006  39147858\n",
       "..          ...         ...         ...         ...       ...\n",
       "243  503.000000  505.350006  497.250000  498.700012  13899433\n",
       "244  480.000000  487.950012  468.000000  472.649994  32356037\n",
       "245  480.000000  491.899994  479.299988  482.950012  21792287\n",
       "246  476.899994  485.299988  473.100006  483.200012  18069367\n",
       "247  478.000000  479.799988  467.000000  474.250000  21977805\n",
       "\n",
       "[248 rows x 5 columns]"
      ]
     },
     "execution_count": 9,
     "metadata": {},
     "output_type": "execute_result"
    }
   ],
   "source": [
    "df"
   ]
  },
  {
   "cell_type": "code",
   "execution_count": 10,
   "metadata": {
    "colab": {
     "base_uri": "https://localhost:8080/"
    },
    "id": "_oIuOZ3GV790",
    "outputId": "158c8a89-7514-460d-d54e-6c15f5468d4c"
   },
   "outputs": [
    {
     "data": {
      "text/plain": [
       "0           NaN\n",
       "1           NaN\n",
       "2           NaN\n",
       "3           NaN\n",
       "4           NaN\n",
       "         ...   \n",
       "243    495.8700\n",
       "244    496.0800\n",
       "245    496.2780\n",
       "246    496.4630\n",
       "247    496.6335\n",
       "Name: Close, Length: 248, dtype: float64"
      ]
     },
     "execution_count": 10,
     "metadata": {},
     "output_type": "execute_result"
    }
   ],
   "source": [
    "ma100 = df.Close.rolling(100).mean()\n",
    "ma100"
   ]
  },
  {
   "cell_type": "code",
   "execution_count": 11,
   "metadata": {
    "colab": {
     "base_uri": "https://localhost:8080/"
    },
    "id": "JV-3-p_VWQZ5",
    "outputId": "d1a67ed8-f299-41c4-d109-44f519b3cd48"
   },
   "outputs": [
    {
     "data": {
      "text/plain": [
       "0            NaN\n",
       "1            NaN\n",
       "2            NaN\n",
       "3            NaN\n",
       "4            NaN\n",
       "         ...    \n",
       "243    460.27025\n",
       "244    460.82500\n",
       "245    461.41650\n",
       "246    461.99400\n",
       "247    462.56300\n",
       "Name: Close, Length: 248, dtype: float64"
      ]
     },
     "execution_count": 11,
     "metadata": {},
     "output_type": "execute_result"
    }
   ],
   "source": [
    "ma300 = df.Close.rolling(200).mean()\n",
    "ma300"
   ]
  },
  {
   "cell_type": "code",
   "execution_count": 11,
   "metadata": {
    "colab": {
     "base_uri": "https://localhost:8080/",
     "height": 394
    },
    "id": "beV2-JkgXNLe",
    "outputId": "6c079c23-79d5-4366-e98e-44e05d36ae7c"
   },
   "outputs": [
    {
     "data": {
      "text/plain": [
       "[<matplotlib.lines.Line2D at 0x1f4b6fef1c0>]"
      ]
     },
     "execution_count": 11,
     "metadata": {},
     "output_type": "execute_result"
    },
    {
     "data": {
      "image/png": "[encoded data removed]",
      "text/plain": [
       "<Figure size 864x432 with 1 Axes>"
      ]
     },
     "metadata": {
      "needs_background": "light"
     },
     "output_type": "display_data"
    }
   ],
   "source": [
    "plt.figure(figsize= (12,6))\n",
    "plt.plot(df.Close)\n",
    "plt.plot(ma100, 'r')"
   ]
  },
  {
   "cell_type": "code",
   "execution_count": 13,
   "metadata": {
    "colab": {
     "base_uri": "https://localhost:8080/",
     "height": 394
    },
    "id": "_vwSLXxkWyz0",
    "outputId": "25fb63b4-0750-4b68-f6c6-482c4a5a702f"
   },
   "outputs": [
    {
     "data": {
      "text/plain": [
       "[<matplotlib.lines.Line2D at 0x225b34b76a0>]"
      ]
     },
     "execution_count": 13,
     "metadata": {},
     "output_type": "execute_result"
    },
    {
     "data": {
      "image/png": "[encoded data removed]",
      "text/plain": [
       "<Figure size 864x432 with 1 Axes>"
      ]
     },
     "metadata": {
      "needs_background": "light"
     },
     "output_type": "display_data"
    }
   ],
   "source": [
    "plt.figure(figsize= (12,6))\n",
    "plt.plot(df.Close)\n",
    "plt.plot(ma300, 'r')"
   ]
  },
  {
   "cell_type": "code",
   "execution_count": 14,
   "metadata": {
    "colab": {
     "base_uri": "https://localhost:8080/",
     "height": 394
    },
    "id": "8bsI6-zcWc4G",
    "outputId": "a1132e3c-7022-418a-df48-98cc3cfd9d98"
   },
   "outputs": [
    {
     "data": {
      "text/plain": [
       "[<matplotlib.lines.Line2D at 0x225b3516ee0>]"
      ]
     },
     "execution_count": 14,
     "metadata": {},
     "output_type": "execute_result"
    },
    {
     "data": {
      "image/png": "[encoded data removed]",
      "text/plain": [
       "<Figure size 864x432 with 1 Axes>"
      ]
     },
     "metadata": {
      "needs_background": "light"
     },
     "output_type": "display_data"
    }
   ],
   "source": [
    "plt.figure(figsize= (12,6))\n",
    "plt.plot(df.Close)\n",
    "plt.plot(ma100, 'r')\n",
    "plt.plot(ma300, 'g')"
   ]
  },
  {
   "cell_type": "code",
   "execution_count": 18,
   "metadata": {
    "colab": {
     "base_uri": "https://localhost:8080/"
    },
    "id": "M71ZavtpXRGU",
    "outputId": "a68b87e2-0b1c-47cb-8a51-884108453877"
   },
   "outputs": [
    {
     "data": {
      "text/plain": [
       "(248, 5)"
      ]
     },
     "execution_count": 18,
     "metadata": {},
     "output_type": "execute_result"
    }
   ],
   "source": [
    "df.shape"
   ]
  },
  {
   "cell_type": "code",
   "execution_count": 19,
   "metadata": {
    "colab": {
     "base_uri": "https://localhost:8080/"
    },
    "id": "5l6fO4MFXawR",
    "outputId": "440e4d47-1d10-46a7-8c87-1e0d4b66f6c0"
   },
   "outputs": [
    {
     "name": "stdout",
     "output_type": "stream",
     "text": [
      "(198, 1)\n",
      "(50, 1)\n"
     ]
    }
   ],
   "source": [
    "#spliting the dataset\n",
    "\n",
    "data_training = pd.DataFrame(df['Close'][0:int(len(df)*0.80)])\n",
    "data_testing = pd.DataFrame(df['Close'][int(len(df)*0.80): int(len(df))])\n",
    "\n",
    "print(data_training.shape)\n",
    "print(data_testing.shape)"
   ]
  },
  {
   "cell_type": "code",
   "execution_count": 20,
   "metadata": {
    "id": "hZ_gzFCvYlWJ"
   },
   "outputs": [],
   "source": [
    "from sklearn.preprocessing import MinMaxScaler\n",
    "scaler = MinMaxScaler(feature_range=(0,1))"
   ]
  },
  {
   "cell_type": "code",
   "execution_count": 21,
   "metadata": {
    "colab": {
     "base_uri": "https://localhost:8080/"
    },
    "id": "sRcnZ3baY_a2",
    "outputId": "34583b88-98e2-442c-b148-74fa2c8fb967"
   },
   "outputs": [
    {
     "data": {
      "text/plain": [
       "array([[0.32415677],\n",
       "       [0.37797609],\n",
       "       [0.33134914],\n",
       "       [0.27182533],\n",
       "       [0.30133928],\n",
       "       [0.29141864],\n",
       "       [0.2919147 ],\n",
       "       [0.25917658],\n",
       "       [0.27306541],\n",
       "       [0.24652768],\n",
       "       [0.19494041],\n",
       "       [0.18973214],\n",
       "       [0.20982136],\n",
       "       [0.18923608],\n",
       "       [0.21750994],\n",
       "       [0.15376984],\n",
       "       [0.13070439],\n",
       "       [0.14062503],\n",
       "       [0.15848205],\n",
       "       [0.17584316],\n",
       "       [0.2073412 ],\n",
       "       [0.12251975],\n",
       "       [0.1076388 ],\n",
       "       [0.14732133],\n",
       "       [0.13268849],\n",
       "       [0.11979163],\n",
       "       [0.        ],\n",
       "       [0.06026783],\n",
       "       [0.06870042],\n",
       "       [0.05481145],\n",
       "       [0.01140867],\n",
       "       [0.00322418],\n",
       "       [0.03869042],\n",
       "       [0.03769844],\n",
       "       [0.07663681],\n",
       "       [0.12003959],\n",
       "       [0.1713789 ],\n",
       "       [0.15153763],\n",
       "       [0.12227179],\n",
       "       [0.1078869 ],\n",
       "       [0.11235116],\n",
       "       [0.13169637],\n",
       "       [0.13244038],\n",
       "       [0.1458333 ],\n",
       "       [0.16294645],\n",
       "       [0.1775793 ],\n",
       "       [0.19270836],\n",
       "       [0.15674606],\n",
       "       [0.26909721],\n",
       "       [0.26488091],\n",
       "       [0.27554557],\n",
       "       [0.27628959],\n",
       "       [0.35887899],\n",
       "       [0.41269831],\n",
       "       [0.4141865 ],\n",
       "       [0.42013879],\n",
       "       [0.4779266 ],\n",
       "       [0.46230148],\n",
       "       [0.4737103 ],\n",
       "       [0.51438482],\n",
       "       [0.53769837],\n",
       "       [0.5496031 ],\n",
       "       [0.51959324],\n",
       "       [0.51289678],\n",
       "       [0.48784724],\n",
       "       [0.45932541],\n",
       "       [0.51289678],\n",
       "       [0.49975197],\n",
       "       [0.50347221],\n",
       "       [0.49925591],\n",
       "       [0.48164684],\n",
       "       [0.45337297],\n",
       "       [0.41691461],\n",
       "       [0.45089281],\n",
       "       [0.44543644],\n",
       "       [0.44642856],\n",
       "       [0.43824406],\n",
       "       [0.49578363],\n",
       "       [0.48561504],\n",
       "       [0.45957337],\n",
       "       [0.4481647 ],\n",
       "       [0.45411699],\n",
       "       [0.47395826],\n",
       "       [0.51488088],\n",
       "       [0.50049599],\n",
       "       [0.515873  ],\n",
       "       [0.47420636],\n",
       "       [0.47073408],\n",
       "       [0.48908732],\n",
       "       [0.49727181],\n",
       "       [0.50694434],\n",
       "       [0.51016867],\n",
       "       [0.50173607],\n",
       "       [0.49131937],\n",
       "       [0.45659715],\n",
       "       [0.46230148],\n",
       "       [0.49627969],\n",
       "       [0.46850188],\n",
       "       [0.50148811],\n",
       "       [0.47941464],\n",
       "       [0.55902767],\n",
       "       [0.51066458],\n",
       "       [0.52604159],\n",
       "       [0.5835813 ],\n",
       "       [0.63541668],\n",
       "       [0.56051586],\n",
       "       [0.52976183],\n",
       "       [0.51860112],\n",
       "       [0.484127  ],\n",
       "       [0.49206339],\n",
       "       [0.48759913],\n",
       "       [0.50768851],\n",
       "       [0.47619046],\n",
       "       [0.45957337],\n",
       "       [0.45064486],\n",
       "       [0.38616073],\n",
       "       [0.40004956],\n",
       "       [0.44022816],\n",
       "       [0.4335317 ],\n",
       "       [0.40624996],\n",
       "       [0.41468256],\n",
       "       [0.46552581],\n",
       "       [0.48214275],\n",
       "       [0.50124   ],\n",
       "       [0.50049599],\n",
       "       [0.50868048],\n",
       "       [0.50694434],\n",
       "       [0.49727181],\n",
       "       [0.50843252],\n",
       "       [0.51314474],\n",
       "       [0.515873  ],\n",
       "       [0.51661702],\n",
       "       [0.57043649],\n",
       "       [0.66889882],\n",
       "       [0.62127974],\n",
       "       [0.53869049],\n",
       "       [0.5453868 ],\n",
       "       [0.5456349 ],\n",
       "       [0.59995029],\n",
       "       [0.55505948],\n",
       "       [0.58407736],\n",
       "       [0.57564476],\n",
       "       [0.65054559],\n",
       "       [0.61582336],\n",
       "       [0.60912691],\n",
       "       [0.66617056],\n",
       "       [0.67385914],\n",
       "       [0.63665676],\n",
       "       [0.64012889],\n",
       "       [0.64062495],\n",
       "       [0.69642852],\n",
       "       [0.76463288],\n",
       "       [0.75818453],\n",
       "       [0.80233133],\n",
       "       [0.83878969],\n",
       "       [0.79042659],\n",
       "       [0.84846222],\n",
       "       [0.86359127],\n",
       "       [0.86359127],\n",
       "       [0.88120034],\n",
       "       [0.9112102 ],\n",
       "       [0.94394847],\n",
       "       [0.85565474],\n",
       "       [0.85962293],\n",
       "       [0.92683532],\n",
       "       [0.95659722],\n",
       "       [0.98611117],\n",
       "       [1.        ],\n",
       "       [0.96428566],\n",
       "       [0.99355165],\n",
       "       [0.96999014],\n",
       "       [0.89657735],\n",
       "       [0.90525791],\n",
       "       [0.8814483 ],\n",
       "       [0.82465275],\n",
       "       [0.83978166],\n",
       "       [0.86780742],\n",
       "       [0.78149793],\n",
       "       [0.81448401],\n",
       "       [0.81498007],\n",
       "       [0.80208322],\n",
       "       [0.70262892],\n",
       "       [0.67584323],\n",
       "       [0.6532737 ],\n",
       "       [0.72643838],\n",
       "       [0.73487098],\n",
       "       [0.71577373],\n",
       "       [0.67683521],\n",
       "       [0.73338294],\n",
       "       [0.80704354],\n",
       "       [0.79265865],\n",
       "       [0.82266866],\n",
       "       [0.78844235],\n",
       "       [0.79216259],\n",
       "       [0.7735614 ],\n",
       "       [0.75545627],\n",
       "       [0.689236  ],\n",
       "       [0.59697422]])"
      ]
     },
     "execution_count": 21,
     "metadata": {},
     "output_type": "execute_result"
    }
   ],
   "source": [
    "data_training_array = scaler.fit_transform(data_training)\n",
    "data_training_array"
   ]
  },
  {
   "cell_type": "code",
   "execution_count": 22,
   "metadata": {
    "id": "OFh9clUeZWQn"
   },
   "outputs": [],
   "source": [
    "x_train = []\n",
    "y_train = []\n",
    "for i in range(100, data_training_array.shape[0]):\n",
    "  x_train.append(data_training_array[i-100: i])\n",
    "  y_train.append(data_training_array[i, 0])\n",
    "\n",
    "x_train, y_train = np.array(x_train), np.array(y_train)"
   ]
  },
  {
   "cell_type": "code",
   "execution_count": 26,
   "metadata": {},
   "outputs": [
    {
     "data": {
      "text/plain": [
       "(98,)"
      ]
     },
     "execution_count": 26,
     "metadata": {},
     "output_type": "execute_result"
    }
   ],
   "source": [
    "x_train.shape\n",
    "y_train.shape"
   ]
  },
  {
   "cell_type": "code",
   "execution_count": 27,
   "metadata": {
    "id": "3CKMxnrZaO06"
   },
   "outputs": [],
   "source": [
    "#Deep Learning LSTM\n",
    "\n",
    "#from keras.layers import Dense, Dropout ,LSTM\n",
    "#from keras.models import Sequential\n",
    "\n",
    "from keras.layers.core import Activation, Dropout, Dense\n",
    "from keras.layers import Flatten, LSTM\n",
    "from keras.layers import GlobalMaxPooling1D\n",
    "from keras.models import Model\n",
    "from keras.models import Sequential"
   ]
  },
  {
   "cell_type": "code",
   "execution_count": 29,
   "metadata": {
    "colab": {
     "base_uri": "https://localhost:8080/",
     "height": 234
    },
    "id": "QN162q0mbC3j",
    "outputId": "3dbffeca-7966-41ef-efeb-34770ae8b869"
   },
   "outputs": [],
   "source": [
    "\n",
    "# design the model\n",
    "\n",
    "model = Sequential()\n",
    "model.add(LSTM(units = 50,activation = 'relu', return_sequences= True,\n",
    "               input_shape = (x_train.shape[1], 1)))\n",
    "model.add(Dropout(0.2))\n",
    "\n",
    "model.add(LSTM(units = 60,activation = 'relu', return_sequences= True))\n",
    "model.add(Dropout(0.3))\n",
    "\n",
    "# model1.add(LSTM(units = 70,activation = 'relu', return_sequences= True))\n",
    "# model1.add(Dropout(0.3))\n",
    "\n",
    "model.add(LSTM(units = 70,activation = 'relu', return_sequences= True))\n",
    "model.add(Dropout(0.4))\n",
    "\n",
    "model.add(LSTM(units = 120,activation = 'relu'))\n",
    "model.add(Dropout(0.5))\n",
    "\n",
    "model.add(Dense(units = 1))"
   ]
  },
  {
   "cell_type": "code",
   "execution_count": 30,
   "metadata": {
    "colab": {
     "base_uri": "https://localhost:8080/",
     "height": 165
    },
    "id": "4XPd7bPldVRc",
    "outputId": "f1bc42e1-9b3c-462e-d97c-47dcadad67a4"
   },
   "outputs": [
    {
     "name": "stdout",
     "output_type": "stream",
     "text": [
      "Model: \"sequential\"\n",
      "_________________________________________________________________\n",
      " Layer (type)                Output Shape              Param #   \n",
      "=================================================================\n",
      " lstm (LSTM)                 (None, 100, 50)           10400     \n",
      "                                                                 \n",
      " dropout (Dropout)           (None, 100, 50)           0         \n",
      "                                                                 \n",
      " lstm_1 (LSTM)               (None, 100, 60)           26640     \n",
      "                                                                 \n",
      " dropout_1 (Dropout)         (None, 100, 60)           0         \n",
      "                                                                 \n",
      " lstm_2 (LSTM)               (None, 100, 70)           36680     \n",
      "                                                                 \n",
      " dropout_2 (Dropout)         (None, 100, 70)           0         \n",
      "                                                                 \n",
      " lstm_3 (LSTM)               (None, 120)               91680     \n",
      "                                                                 \n",
      " dropout_3 (Dropout)         (None, 120)               0         \n",
      "                                                                 \n",
      " dense (Dense)               (None, 1)                 121       \n",
      "                                                                 \n",
      "=================================================================\n",
      "Total params: 165,521\n",
      "Trainable params: 165,521\n",
      "Non-trainable params: 0\n",
      "_________________________________________________________________\n"
     ]
    }
   ],
   "source": [
    "model.summary()"
   ]
  },
  {
   "cell_type": "code",
   "execution_count": 31,
   "metadata": {},
   "outputs": [
    {
     "name": "stdout",
     "output_type": "stream",
     "text": [
      "Epoch 1/25\n",
      "4/4 [==============================] - 8s 234ms/step - loss: 0.4663\n",
      "Epoch 2/25\n",
      "4/4 [==============================] - 1s 239ms/step - loss: 0.3631\n",
      "Epoch 3/25\n",
      "4/4 [==============================] - 1s 234ms/step - loss: 0.1255\n",
      "Epoch 4/25\n",
      "4/4 [==============================] - 1s 240ms/step - loss: 0.0629\n",
      "Epoch 5/25\n",
      "4/4 [==============================] - 1s 232ms/step - loss: 0.0650\n",
      "Epoch 6/25\n",
      "4/4 [==============================] - 1s 235ms/step - loss: 0.0537\n",
      "Epoch 7/25\n",
      "4/4 [==============================] - 1s 233ms/step - loss: 0.0308\n",
      "Epoch 8/25\n",
      "4/4 [==============================] - 1s 228ms/step - loss: 0.0515\n",
      "Epoch 9/25\n",
      "4/4 [==============================] - 1s 226ms/step - loss: 0.0291\n",
      "Epoch 10/25\n",
      "4/4 [==============================] - 1s 226ms/step - loss: 0.0379\n",
      "Epoch 11/25\n",
      "4/4 [==============================] - 1s 225ms/step - loss: 0.0380\n",
      "Epoch 12/25\n",
      "4/4 [==============================] - 1s 224ms/step - loss: 0.0283\n",
      "Epoch 13/25\n",
      "4/4 [==============================] - 1s 242ms/step - loss: 0.0363\n",
      "Epoch 14/25\n",
      "4/4 [==============================] - 1s 230ms/step - loss: 0.0280\n",
      "Epoch 15/25\n",
      "4/4 [==============================] - 1s 229ms/step - loss: 0.0381\n",
      "Epoch 16/25\n",
      "4/4 [==============================] - 1s 231ms/step - loss: 0.0383\n",
      "Epoch 17/25\n",
      "4/4 [==============================] - 1s 225ms/step - loss: 0.0261\n",
      "Epoch 18/25\n",
      "4/4 [==============================] - 1s 226ms/step - loss: 0.0377\n",
      "Epoch 19/25\n",
      "4/4 [==============================] - 1s 229ms/step - loss: 0.0235\n",
      "Epoch 20/25\n",
      "4/4 [==============================] - 1s 242ms/step - loss: 0.0355\n",
      "Epoch 21/25\n",
      "4/4 [==============================] - 1s 225ms/step - loss: 0.0286\n",
      "Epoch 22/25\n",
      "4/4 [==============================] - 1s 225ms/step - loss: 0.0275\n",
      "Epoch 23/25\n",
      "4/4 [==============================] - 1s 238ms/step - loss: 0.0333\n",
      "Epoch 24/25\n",
      "4/4 [==============================] - 1s 234ms/step - loss: 0.0340\n",
      "Epoch 25/25\n",
      "4/4 [==============================] - 1s 225ms/step - loss: 0.0235\n"
     ]
    },
    {
     "data": {
      "text/plain": [
       "<keras.callbacks.History at 0x225bd891340>"
      ]
     },
     "execution_count": 31,
     "metadata": {},
     "output_type": "execute_result"
    }
   ],
   "source": [
    "model.compile(optimizer='', loss='mse')\n",
    "model.fit(x_train, y_train,epochs = 25)"
   ]
  },
  {
   "cell_type": "code",
   "execution_count": 47,
   "metadata": {},
   "outputs": [],
   "source": [
    "model.save('lstm.h5')"
   ]
  },
  {
   "cell_type": "code",
   "execution_count": 32,
   "metadata": {},
   "outputs": [
    {
     "data": {
      "text/html": [
       "<div>\n",
       "<style scoped>\n",
       "    .dataframe tbody tr th:only-of-type {\n",
       "        vertical-align: middle;\n",
       "    }\n",
       "\n",
       "    .dataframe tbody tr th {\n",
       "        vertical-align: top;\n",
       "    }\n",
       "\n",
       "    .dataframe thead th {\n",
       "        text-align: right;\n",
       "    }\n",
       "</style>\n",
       "<table border=\"1\" class=\"dataframe\">\n",
       "  <thead>\n",
       "    <tr style=\"text-align: right;\">\n",
       "      <th></th>\n",
       "      <th>Close</th>\n",
       "    </tr>\n",
       "  </thead>\n",
       "  <tbody>\n",
       "    <tr>\n",
       "      <th>198</th>\n",
       "      <td>446.000000</td>\n",
       "    </tr>\n",
       "    <tr>\n",
       "      <th>199</th>\n",
       "      <td>455.850006</td>\n",
       "    </tr>\n",
       "    <tr>\n",
       "      <th>200</th>\n",
       "      <td>461.799988</td>\n",
       "    </tr>\n",
       "    <tr>\n",
       "      <th>201</th>\n",
       "      <td>456.950012</td>\n",
       "    </tr>\n",
       "    <tr>\n",
       "      <th>202</th>\n",
       "      <td>458.049988</td>\n",
       "    </tr>\n",
       "  </tbody>\n",
       "</table>\n",
       "</div>"
      ],
      "text/plain": [
       "          Close\n",
       "198  446.000000\n",
       "199  455.850006\n",
       "200  461.799988\n",
       "201  456.950012\n",
       "202  458.049988"
      ]
     },
     "execution_count": 32,
     "metadata": {},
     "output_type": "execute_result"
    }
   ],
   "source": [
    "data_testing.head()"
   ]
  },
  {
   "cell_type": "code",
   "execution_count": 33,
   "metadata": {},
   "outputs": [],
   "source": [
    "past_100_days = data_training.tail(100)"
   ]
  },
  {
   "cell_type": "code",
   "execution_count": 34,
   "metadata": {},
   "outputs": [],
   "source": [
    "final_df = past_100_days.append(data_testing, ignore_index=True)"
   ]
  },
  {
   "cell_type": "code",
   "execution_count": 35,
   "metadata": {},
   "outputs": [
    {
     "data": {
      "text/html": [
       "<div>\n",
       "<style scoped>\n",
       "    .dataframe tbody tr th:only-of-type {\n",
       "        vertical-align: middle;\n",
       "    }\n",
       "\n",
       "    .dataframe tbody tr th {\n",
       "        vertical-align: top;\n",
       "    }\n",
       "\n",
       "    .dataframe thead th {\n",
       "        text-align: right;\n",
       "    }\n",
       "</style>\n",
       "<table border=\"1\" class=\"dataframe\">\n",
       "  <thead>\n",
       "    <tr style=\"text-align: right;\">\n",
       "      <th></th>\n",
       "      <th>Close</th>\n",
       "    </tr>\n",
       "  </thead>\n",
       "  <tbody>\n",
       "    <tr>\n",
       "      <th>0</th>\n",
       "      <td>429.950012</td>\n",
       "    </tr>\n",
       "    <tr>\n",
       "      <th>1</th>\n",
       "      <td>425.500000</td>\n",
       "    </tr>\n",
       "    <tr>\n",
       "      <th>2</th>\n",
       "      <td>441.549988</td>\n",
       "    </tr>\n",
       "    <tr>\n",
       "      <th>3</th>\n",
       "      <td>431.799988</td>\n",
       "    </tr>\n",
       "    <tr>\n",
       "      <th>4</th>\n",
       "      <td>434.899994</td>\n",
       "    </tr>\n",
       "  </tbody>\n",
       "</table>\n",
       "</div>"
      ],
      "text/plain": [
       "        Close\n",
       "0  429.950012\n",
       "1  425.500000\n",
       "2  441.549988\n",
       "3  431.799988\n",
       "4  434.899994"
      ]
     },
     "execution_count": 35,
     "metadata": {},
     "output_type": "execute_result"
    }
   ],
   "source": [
    "#testing data\n",
    "final_df.head(5)"
   ]
  },
  {
   "cell_type": "code",
   "execution_count": 36,
   "metadata": {},
   "outputs": [
    {
     "data": {
      "text/plain": [
       "array([[0.17370194],\n",
       "       [0.14045567],\n",
       "       [0.26036595],\n",
       "       [0.1875232 ],\n",
       "       [0.2106835 ],\n",
       "       [0.29734774],\n",
       "       [0.37542031],\n",
       "       [0.2626074 ],\n",
       "       [0.21628679],\n",
       "       [0.19947693],\n",
       "       [0.14755326],\n",
       "       [0.15950676],\n",
       "       [0.15278286],\n",
       "       [0.18304075],\n",
       "       [0.13559953],\n",
       "       [0.11057147],\n",
       "       [0.09712366],\n",
       "       [0.        ],\n",
       "       [0.02091885],\n",
       "       [0.08143441],\n",
       "       [0.07134845],\n",
       "       [0.03025767],\n",
       "       [0.04295854],\n",
       "       [0.11953682],\n",
       "       [0.14456466],\n",
       "       [0.17332825],\n",
       "       [0.17220764],\n",
       "       [0.18453483],\n",
       "       [0.18191991],\n",
       "       [0.1673515 ],\n",
       "       [0.18416136],\n",
       "       [0.19125873],\n",
       "       [0.19536794],\n",
       "       [0.19648855],\n",
       "       [0.2775495 ],\n",
       "       [0.42584991],\n",
       "       [0.35412777],\n",
       "       [0.22973482],\n",
       "       [0.23982056],\n",
       "       [0.24019425],\n",
       "       [0.32200212],\n",
       "       [0.2543892 ],\n",
       "       [0.29809489],\n",
       "       [0.28539401],\n",
       "       [0.39820693],\n",
       "       [0.34590957],\n",
       "       [0.33582361],\n",
       "       [0.4217407 ],\n",
       "       [0.43332096],\n",
       "       [0.37728808],\n",
       "       [0.38251768],\n",
       "       [0.38326483],\n",
       "       [0.46731415],\n",
       "       [0.5700411 ],\n",
       "       [0.56032883],\n",
       "       [0.62682114],\n",
       "       [0.68173341],\n",
       "       [0.60889066],\n",
       "       [0.69630182],\n",
       "       [0.71908866],\n",
       "       [0.71908866],\n",
       "       [0.7456108 ],\n",
       "       [0.79081057],\n",
       "       [0.84011978],\n",
       "       [0.70713493],\n",
       "       [0.71311169],\n",
       "       [0.81434456],\n",
       "       [0.85917087],\n",
       "       [0.90362371],\n",
       "       [0.92454256],\n",
       "       [0.87075091],\n",
       "       [0.91483029],\n",
       "       [0.87934279],\n",
       "       [0.76877111],\n",
       "       [0.78184544],\n",
       "       [0.74598427],\n",
       "       [0.66044087],\n",
       "       [0.68322748],\n",
       "       [0.72543887],\n",
       "       [0.59544263],\n",
       "       [0.64512508],\n",
       "       [0.64587223],\n",
       "       [0.62644745],\n",
       "       [0.47665297],\n",
       "       [0.43630933],\n",
       "       [0.40231592],\n",
       "       [0.51251392],\n",
       "       [0.5252148 ],\n",
       "       [0.49645121],\n",
       "       [0.43780341],\n",
       "       [0.52297357],\n",
       "       [0.6339185 ],\n",
       "       [0.6122525 ],\n",
       "       [0.65745249],\n",
       "       [0.60590206],\n",
       "       [0.61150535],\n",
       "       [0.58348891],\n",
       "       [0.55621961],\n",
       "       [0.45648104],\n",
       "       [0.31751967],\n",
       "       [0.29361222],\n",
       "       [0.36720211],\n",
       "       [0.41165473],\n",
       "       [0.37542031],\n",
       "       [0.38363829],\n",
       "       [0.40717228],\n",
       "       [0.356369  ],\n",
       "       [0.3361973 ],\n",
       "       [0.40156899],\n",
       "       [0.47889419],\n",
       "       [0.57377663],\n",
       "       [0.64026894],\n",
       "       [0.63503934],\n",
       "       [0.63167727],\n",
       "       [0.72431826],\n",
       "       [0.74150181],\n",
       "       [0.77362724],\n",
       "       [0.78184544],\n",
       "       [0.75943229],\n",
       "       [0.80164369],\n",
       "       [0.74785203],\n",
       "       [0.81509149],\n",
       "       [0.78221891],\n",
       "       [0.7172209 ],\n",
       "       [0.65334328],\n",
       "       [0.80650005],\n",
       "       [0.91333599],\n",
       "       [0.87224521],\n",
       "       [0.98319014],\n",
       "       [0.93836383],\n",
       "       [0.99439671],\n",
       "       [0.99663794],\n",
       "       [0.92342173],\n",
       "       [0.94546142],\n",
       "       [0.93126624],\n",
       "       [0.96040352],\n",
       "       [1.        ],\n",
       "       [0.9181919 ],\n",
       "       [0.7075084 ],\n",
       "       [0.88233095],\n",
       "       [0.82181561],\n",
       "       [0.79379917],\n",
       "       [0.81135596],\n",
       "       [0.78558097],\n",
       "       [0.68509524],\n",
       "       [0.68733669],\n",
       "       [0.49271568],\n",
       "       [0.56966764],\n",
       "       [0.5715354 ],\n",
       "       [0.50466941]])"
      ]
     },
     "execution_count": 36,
     "metadata": {},
     "output_type": "execute_result"
    }
   ],
   "source": [
    "#scler the daatset\n",
    "input_data = scaler.fit_transform(final_df)\n",
    "input_data"
   ]
  },
  {
   "cell_type": "code",
   "execution_count": 37,
   "metadata": {},
   "outputs": [
    {
     "data": {
      "text/plain": [
       "(150, 1)"
      ]
     },
     "execution_count": 37,
     "metadata": {},
     "output_type": "execute_result"
    }
   ],
   "source": [
    "input_data.shape"
   ]
  },
  {
   "cell_type": "code",
   "execution_count": 38,
   "metadata": {},
   "outputs": [],
   "source": [
    "x_test = []\n",
    "y_test = []\n",
    "\n",
    "for i in range(100, input_data.shape[0]):\n",
    "    x_test.append(input_data[i-100: i])\n",
    "    y_test.append(input_data[i, 0])"
   ]
  },
  {
   "cell_type": "code",
   "execution_count": 39,
   "metadata": {},
   "outputs": [],
   "source": [
    "x_test, y_test = np.array(x_test), np.array(y_test)\n"
   ]
  },
  {
   "cell_type": "code",
   "execution_count": 40,
   "metadata": {},
   "outputs": [],
   "source": [
    "y_predicted = model.predict(x_test)"
   ]
  },
  {
   "cell_type": "code",
   "execution_count": 41,
   "metadata": {},
   "outputs": [
    {
     "data": {
      "text/plain": [
       "array([0.29361222, 0.36720211, 0.41165473, 0.37542031, 0.38363829,\n",
       "       0.40717228, 0.356369  , 0.3361973 , 0.40156899, 0.47889419,\n",
       "       0.57377663, 0.64026894, 0.63503934, 0.63167727, 0.72431826,\n",
       "       0.74150181, 0.77362724, 0.78184544, 0.75943229, 0.80164369,\n",
       "       0.74785203, 0.81509149, 0.78221891, 0.7172209 , 0.65334328,\n",
       "       0.80650005, 0.91333599, 0.87224521, 0.98319014, 0.93836383,\n",
       "       0.99439671, 0.99663794, 0.92342173, 0.94546142, 0.93126624,\n",
       "       0.96040352, 1.        , 0.9181919 , 0.7075084 , 0.88233095,\n",
       "       0.82181561, 0.79379917, 0.81135596, 0.78558097, 0.68509524,\n",
       "       0.68733669, 0.49271568, 0.56966764, 0.5715354 , 0.50466941])"
      ]
     },
     "execution_count": 41,
     "metadata": {},
     "output_type": "execute_result"
    }
   ],
   "source": [
    "y_test"
   ]
  },
  {
   "cell_type": "code",
   "execution_count": 42,
   "metadata": {},
   "outputs": [
    {
     "data": {
      "text/plain": [
       "array([[0.65342116],\n",
       "       [0.6504346 ],\n",
       "       [0.6472172 ],\n",
       "       [0.64372325],\n",
       "       [0.6399416 ],\n",
       "       [0.63589513],\n",
       "       [0.6316426 ],\n",
       "       [0.627228  ],\n",
       "       [0.62268287],\n",
       "       [0.6180748 ],\n",
       "       [0.6135248 ],\n",
       "       [0.6092105 ],\n",
       "       [0.60533595],\n",
       "       [0.60207605],\n",
       "       [0.5995542 ],\n",
       "       [0.5978839 ],\n",
       "       [0.59714806],\n",
       "       [0.59740186],\n",
       "       [0.598661  ],\n",
       "       [0.60088694],\n",
       "       [0.6040225 ],\n",
       "       [0.6079587 ],\n",
       "       [0.61259687],\n",
       "       [0.61781895],\n",
       "       [0.62346107],\n",
       "       [0.6293124 ],\n",
       "       [0.6352563 ],\n",
       "       [0.6412771 ],\n",
       "       [0.64737594],\n",
       "       [0.65361094],\n",
       "       [0.66002226],\n",
       "       [0.6666561 ],\n",
       "       [0.6735437 ],\n",
       "       [0.6806539 ],\n",
       "       [0.68793124],\n",
       "       [0.69529915],\n",
       "       [0.70269096],\n",
       "       [0.71006805],\n",
       "       [0.71735233],\n",
       "       [0.72432756],\n",
       "       [0.730867  ],\n",
       "       [0.73686206],\n",
       "       [0.74221975],\n",
       "       [0.7468876 ],\n",
       "       [0.7508327 ],\n",
       "       [0.75398517],\n",
       "       [0.75628996],\n",
       "       [0.75760096],\n",
       "       [0.7578348 ],\n",
       "       [0.75697213]], dtype=float32)"
      ]
     },
     "execution_count": 42,
     "metadata": {},
     "output_type": "execute_result"
    }
   ],
   "source": [
    "y_predicted"
   ]
  },
  {
   "cell_type": "code",
   "execution_count": 45,
   "metadata": {},
   "outputs": [
    {
     "data": {
      "text/plain": [
       "array([0.00747105])"
      ]
     },
     "execution_count": 45,
     "metadata": {},
     "output_type": "execute_result"
    }
   ],
   "source": [
    "scaler.scale_"
   ]
  },
  {
   "cell_type": "code",
   "execution_count": 46,
   "metadata": {},
   "outputs": [
    {
     "ename": "NameError",
     "evalue": "name 'scale_factor' is not defined",
     "output_type": "error",
     "traceback": [
      "\u001b[1;31m---------------------------------------------------------------------------\u001b[0m",
      "\u001b[1;31mNameError\u001b[0m                                 Traceback (most recent call last)",
      "\u001b[1;32m~\\AppData\\Local\\Temp/ipykernel_144/1190007626.py\u001b[0m in \u001b[0;36m<module>\u001b[1;34m\u001b[0m\n\u001b[0;32m      1\u001b[0m \u001b[0mscaler_factor\u001b[0m \u001b[1;33m=\u001b[0m \u001b[1;36m1\u001b[0m\u001b[1;33m/\u001b[0m\u001b[1;36m0.00747105\u001b[0m\u001b[1;33m\u001b[0m\u001b[1;33m\u001b[0m\u001b[0m\n\u001b[0;32m      2\u001b[0m \u001b[0my_predicted\u001b[0m \u001b[1;33m=\u001b[0m \u001b[0my_predicted\u001b[0m \u001b[1;33m*\u001b[0m \u001b[0mscaler_factor\u001b[0m\u001b[1;33m\u001b[0m\u001b[1;33m\u001b[0m\u001b[0m\n\u001b[1;32m----> 3\u001b[1;33m \u001b[0my_test\u001b[0m \u001b[1;33m=\u001b[0m \u001b[0my_test\u001b[0m \u001b[1;33m*\u001b[0m \u001b[0mscale_factor\u001b[0m\u001b[1;33m\u001b[0m\u001b[1;33m\u001b[0m\u001b[0m\n\u001b[0m",
      "\u001b[1;31mNameError\u001b[0m: name 'scale_factor' is not defined"
     ]
    }
   ],
   "source": [
    "scaler_factor = 1/0.00747105\n",
    "y_predicted = y_predicted * scaler_factor\n",
    "y_test = y_test * scale_factor"
   ]
  },
  {
   "cell_type": "code",
   "execution_count": 70,
   "metadata": {},
   "outputs": [
    {
     "data": {
      "image/png": "[encoded data removed]",
      "text/plain": [
       "<Figure size 864x432 with 1 Axes>"
      ]
     },
     "metadata": {
      "needs_background": "light"
     },
     "output_type": "display_data"
    }
   ],
   "source": [
    "plt.figure(figsize=(12,6))\n",
    "plt.plot(y_test, 'b',label = 'original Price')\n",
    "plt.plot(y_predicted, 'r',label = \"Predicted Price\")\n",
    "plt.xlabel('Time')\n",
    "plt.ylabel('Price')\n",
    "plt.legend()\n",
    "plt.show()"
   ]
  },
  {
   "cell_type": "code",
   "execution_count": null,
   "metadata": {},
   "outputs": [],
   "source": []
  }
 ],
 "metadata": {
  "accelerator": "GPU",
  "colab": {
   "name": "Stock market pred(LSTM).ipynb",
   "provenance": []
  },
  "kernelspec": {
   "display_name": "Python 3 (ipykernel)",
   "language": "python",
   "name": "python3"
  },
  "language_info": {
   "codemirror_mode": {
    "name": "ipython",
    "version": 3
   },
   "file_extension": ".py",
   "mimetype": "text/x-python",
   "name": "python",
   "nbconvert_exporter": "python",
   "pygments_lexer": "ipython3",
   "version": "3.9.7"
  }
 },
 "nbformat": 4,
 "nbformat_minor": 1
}
