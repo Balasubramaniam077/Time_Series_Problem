{
 "cells": [
  {
   "cell_type": "code",
   "execution_count": 1,
   "id": "79bb1132",
   "metadata": {},
   "outputs": [],
   "source": [
    "import pandas as pd\n",
    "import numpy as np \n",
    "import matplotlib.pyplot as plt\n",
    "import seaborn as sns"
   ]
  },
  {
   "cell_type": "code",
   "execution_count": 3,
   "id": "b1f54b9b",
   "metadata": {},
   "outputs": [
    {
     "data": {
      "text/html": [
       "<div>\n",
       "<style scoped>\n",
       "    .dataframe tbody tr th:only-of-type {\n",
       "        vertical-align: middle;\n",
       "    }\n",
       "\n",
       "    .dataframe tbody tr th {\n",
       "        vertical-align: top;\n",
       "    }\n",
       "\n",
       "    .dataframe thead th {\n",
       "        text-align: right;\n",
       "    }\n",
       "</style>\n",
       "<table border=\"1\" class=\"dataframe\">\n",
       "  <thead>\n",
       "    <tr style=\"text-align: right;\">\n",
       "      <th></th>\n",
       "      <th>Date</th>\n",
       "      <th>Open</th>\n",
       "      <th>High</th>\n",
       "      <th>Low</th>\n",
       "      <th>Last</th>\n",
       "      <th>Close</th>\n",
       "      <th>Total Trade Quantity</th>\n",
       "      <th>Turnover (Lacs)</th>\n",
       "    </tr>\n",
       "  </thead>\n",
       "  <tbody>\n",
       "    <tr>\n",
       "      <th>0</th>\n",
       "      <td>2018-12-03</td>\n",
       "      <td>1984.00</td>\n",
       "      <td>1990.00</td>\n",
       "      <td>1968.30</td>\n",
       "      <td>1984.00</td>\n",
       "      <td>1982.40</td>\n",
       "      <td>1610576.0</td>\n",
       "      <td>31868.00</td>\n",
       "    </tr>\n",
       "    <tr>\n",
       "      <th>1</th>\n",
       "      <td>2018-12-04</td>\n",
       "      <td>1983.00</td>\n",
       "      <td>2019.40</td>\n",
       "      <td>1971.00</td>\n",
       "      <td>2009.85</td>\n",
       "      <td>2010.85</td>\n",
       "      <td>3270615.0</td>\n",
       "      <td>65568.23</td>\n",
       "    </tr>\n",
       "    <tr>\n",
       "      <th>2</th>\n",
       "      <td>2018-12-05</td>\n",
       "      <td>2006.00</td>\n",
       "      <td>2018.00</td>\n",
       "      <td>1985.00</td>\n",
       "      <td>2003.90</td>\n",
       "      <td>2006.75</td>\n",
       "      <td>2501539.0</td>\n",
       "      <td>50131.23</td>\n",
       "    </tr>\n",
       "    <tr>\n",
       "      <th>3</th>\n",
       "      <td>2018-12-06</td>\n",
       "      <td>1998.00</td>\n",
       "      <td>2017.00</td>\n",
       "      <td>1979.60</td>\n",
       "      <td>1990.00</td>\n",
       "      <td>1992.70</td>\n",
       "      <td>2321216.0</td>\n",
       "      <td>46373.71</td>\n",
       "    </tr>\n",
       "    <tr>\n",
       "      <th>4</th>\n",
       "      <td>2018-12-07</td>\n",
       "      <td>1985.05</td>\n",
       "      <td>2003.90</td>\n",
       "      <td>1973.00</td>\n",
       "      <td>1999.85</td>\n",
       "      <td>1995.20</td>\n",
       "      <td>1680420.0</td>\n",
       "      <td>33463.26</td>\n",
       "    </tr>\n",
       "    <tr>\n",
       "      <th>5</th>\n",
       "      <td>2018-12-10</td>\n",
       "      <td>1975.00</td>\n",
       "      <td>2011.00</td>\n",
       "      <td>1960.00</td>\n",
       "      <td>1961.00</td>\n",
       "      <td>1975.80</td>\n",
       "      <td>2010786.0</td>\n",
       "      <td>39990.73</td>\n",
       "    </tr>\n",
       "    <tr>\n",
       "      <th>6</th>\n",
       "      <td>2018-12-11</td>\n",
       "      <td>1970.00</td>\n",
       "      <td>2010.00</td>\n",
       "      <td>1961.00</td>\n",
       "      <td>1997.05</td>\n",
       "      <td>2000.00</td>\n",
       "      <td>2942014.0</td>\n",
       "      <td>58636.26</td>\n",
       "    </tr>\n",
       "    <tr>\n",
       "      <th>7</th>\n",
       "      <td>2018-12-12</td>\n",
       "      <td>2001.10</td>\n",
       "      <td>2022.00</td>\n",
       "      <td>1984.95</td>\n",
       "      <td>2016.50</td>\n",
       "      <td>2016.80</td>\n",
       "      <td>2219993.0</td>\n",
       "      <td>44663.42</td>\n",
       "    </tr>\n",
       "    <tr>\n",
       "      <th>8</th>\n",
       "      <td>2018-12-13</td>\n",
       "      <td>2024.00</td>\n",
       "      <td>2029.70</td>\n",
       "      <td>1974.50</td>\n",
       "      <td>1981.95</td>\n",
       "      <td>1982.60</td>\n",
       "      <td>3748429.0</td>\n",
       "      <td>74802.38</td>\n",
       "    </tr>\n",
       "    <tr>\n",
       "      <th>9</th>\n",
       "      <td>2018-12-14</td>\n",
       "      <td>1983.00</td>\n",
       "      <td>1998.95</td>\n",
       "      <td>1975.25</td>\n",
       "      <td>1989.00</td>\n",
       "      <td>1989.75</td>\n",
       "      <td>2473761.0</td>\n",
       "      <td>49094.42</td>\n",
       "    </tr>\n",
       "  </tbody>\n",
       "</table>\n",
       "</div>"
      ],
      "text/plain": [
       "         Date     Open     High      Low     Last    Close  \\\n",
       "0  2018-12-03  1984.00  1990.00  1968.30  1984.00  1982.40   \n",
       "1  2018-12-04  1983.00  2019.40  1971.00  2009.85  2010.85   \n",
       "2  2018-12-05  2006.00  2018.00  1985.00  2003.90  2006.75   \n",
       "3  2018-12-06  1998.00  2017.00  1979.60  1990.00  1992.70   \n",
       "4  2018-12-07  1985.05  2003.90  1973.00  1999.85  1995.20   \n",
       "5  2018-12-10  1975.00  2011.00  1960.00  1961.00  1975.80   \n",
       "6  2018-12-11  1970.00  2010.00  1961.00  1997.05  2000.00   \n",
       "7  2018-12-12  2001.10  2022.00  1984.95  2016.50  2016.80   \n",
       "8  2018-12-13  2024.00  2029.70  1974.50  1981.95  1982.60   \n",
       "9  2018-12-14  1983.00  1998.95  1975.25  1989.00  1989.75   \n",
       "\n",
       "   Total Trade Quantity  Turnover (Lacs)  \n",
       "0             1610576.0         31868.00  \n",
       "1             3270615.0         65568.23  \n",
       "2             2501539.0         50131.23  \n",
       "3             2321216.0         46373.71  \n",
       "4             1680420.0         33463.26  \n",
       "5             2010786.0         39990.73  \n",
       "6             2942014.0         58636.26  \n",
       "7             2219993.0         44663.42  \n",
       "8             3748429.0         74802.38  \n",
       "9             2473761.0         49094.42  "
      ]
     },
     "execution_count": 3,
     "metadata": {},
     "output_type": "execute_result"
    }
   ],
   "source": [
    "df=pd.read_csv(\"C:/TCS.csv\") \n",
    "df.head(10)"
   ]
  },
  {
   "cell_type": "code",
   "execution_count": 4,
   "id": "a39a0991",
   "metadata": {},
   "outputs": [
    {
     "data": {
      "text/html": [
       "<div>\n",
       "<style scoped>\n",
       "    .dataframe tbody tr th:only-of-type {\n",
       "        vertical-align: middle;\n",
       "    }\n",
       "\n",
       "    .dataframe tbody tr th {\n",
       "        vertical-align: top;\n",
       "    }\n",
       "\n",
       "    .dataframe thead th {\n",
       "        text-align: right;\n",
       "    }\n",
       "</style>\n",
       "<table border=\"1\" class=\"dataframe\">\n",
       "  <thead>\n",
       "    <tr style=\"text-align: right;\">\n",
       "      <th></th>\n",
       "      <th>Open</th>\n",
       "      <th>High</th>\n",
       "      <th>Low</th>\n",
       "      <th>Last</th>\n",
       "      <th>Close</th>\n",
       "      <th>Total Trade Quantity</th>\n",
       "      <th>Turnover (Lacs)</th>\n",
       "    </tr>\n",
       "  </thead>\n",
       "  <tbody>\n",
       "    <tr>\n",
       "      <th>count</th>\n",
       "      <td>20.000000</td>\n",
       "      <td>20.0000</td>\n",
       "      <td>20.000000</td>\n",
       "      <td>20.00000</td>\n",
       "      <td>20.000000</td>\n",
       "      <td>2.000000e+01</td>\n",
       "      <td>20.000000</td>\n",
       "    </tr>\n",
       "    <tr>\n",
       "      <th>mean</th>\n",
       "      <td>1967.312500</td>\n",
       "      <td>1983.3975</td>\n",
       "      <td>1945.655000</td>\n",
       "      <td>1962.97750</td>\n",
       "      <td>1962.952500</td>\n",
       "      <td>2.467144e+06</td>\n",
       "      <td>48423.724000</td>\n",
       "    </tr>\n",
       "    <tr>\n",
       "      <th>std</th>\n",
       "      <td>36.938946</td>\n",
       "      <td>38.7280</td>\n",
       "      <td>42.023142</td>\n",
       "      <td>42.98135</td>\n",
       "      <td>44.704991</td>\n",
       "      <td>8.906054e+05</td>\n",
       "      <td>17225.204775</td>\n",
       "    </tr>\n",
       "    <tr>\n",
       "      <th>min</th>\n",
       "      <td>1905.800000</td>\n",
       "      <td>1909.0000</td>\n",
       "      <td>1870.250000</td>\n",
       "      <td>1892.00000</td>\n",
       "      <td>1889.200000</td>\n",
       "      <td>1.227921e+06</td>\n",
       "      <td>24482.950000</td>\n",
       "    </tr>\n",
       "    <tr>\n",
       "      <th>25%</th>\n",
       "      <td>1941.450000</td>\n",
       "      <td>1947.9250</td>\n",
       "      <td>1902.000000</td>\n",
       "      <td>1918.77500</td>\n",
       "      <td>1916.112500</td>\n",
       "      <td>1.875834e+06</td>\n",
       "      <td>35820.857500</td>\n",
       "    </tr>\n",
       "    <tr>\n",
       "      <th>50%</th>\n",
       "      <td>1983.000000</td>\n",
       "      <td>2000.4750</td>\n",
       "      <td>1964.650000</td>\n",
       "      <td>1982.97500</td>\n",
       "      <td>1982.500000</td>\n",
       "      <td>2.280173e+06</td>\n",
       "      <td>45388.200000</td>\n",
       "    </tr>\n",
       "    <tr>\n",
       "      <th>75%</th>\n",
       "      <td>1993.425000</td>\n",
       "      <td>2012.5000</td>\n",
       "      <td>1975.537500</td>\n",
       "      <td>1993.93750</td>\n",
       "      <td>1994.525000</td>\n",
       "      <td>2.611658e+06</td>\n",
       "      <td>52257.487500</td>\n",
       "    </tr>\n",
       "    <tr>\n",
       "      <th>max</th>\n",
       "      <td>2024.000000</td>\n",
       "      <td>2029.7000</td>\n",
       "      <td>1985.000000</td>\n",
       "      <td>2016.50000</td>\n",
       "      <td>2016.800000</td>\n",
       "      <td>4.968201e+06</td>\n",
       "      <td>95411.460000</td>\n",
       "    </tr>\n",
       "  </tbody>\n",
       "</table>\n",
       "</div>"
      ],
      "text/plain": [
       "              Open       High          Low        Last        Close  \\\n",
       "count    20.000000    20.0000    20.000000    20.00000    20.000000   \n",
       "mean   1967.312500  1983.3975  1945.655000  1962.97750  1962.952500   \n",
       "std      36.938946    38.7280    42.023142    42.98135    44.704991   \n",
       "min    1905.800000  1909.0000  1870.250000  1892.00000  1889.200000   \n",
       "25%    1941.450000  1947.9250  1902.000000  1918.77500  1916.112500   \n",
       "50%    1983.000000  2000.4750  1964.650000  1982.97500  1982.500000   \n",
       "75%    1993.425000  2012.5000  1975.537500  1993.93750  1994.525000   \n",
       "max    2024.000000  2029.7000  1985.000000  2016.50000  2016.800000   \n",
       "\n",
       "       Total Trade Quantity  Turnover (Lacs)  \n",
       "count          2.000000e+01        20.000000  \n",
       "mean           2.467144e+06     48423.724000  \n",
       "std            8.906054e+05     17225.204775  \n",
       "min            1.227921e+06     24482.950000  \n",
       "25%            1.875834e+06     35820.857500  \n",
       "50%            2.280173e+06     45388.200000  \n",
       "75%            2.611658e+06     52257.487500  \n",
       "max            4.968201e+06     95411.460000  "
      ]
     },
     "execution_count": 4,
     "metadata": {},
     "output_type": "execute_result"
    }
   ],
   "source": [
    "df.describe()"
   ]
  },
  {
   "cell_type": "code",
   "execution_count": 5,
   "id": "e377dcce",
   "metadata": {},
   "outputs": [
    {
     "data": {
      "text/html": [
       "<div>\n",
       "<style scoped>\n",
       "    .dataframe tbody tr th:only-of-type {\n",
       "        vertical-align: middle;\n",
       "    }\n",
       "\n",
       "    .dataframe tbody tr th {\n",
       "        vertical-align: top;\n",
       "    }\n",
       "\n",
       "    .dataframe thead th {\n",
       "        text-align: right;\n",
       "    }\n",
       "</style>\n",
       "<table border=\"1\" class=\"dataframe\">\n",
       "  <thead>\n",
       "    <tr style=\"text-align: right;\">\n",
       "      <th></th>\n",
       "      <th>Date</th>\n",
       "      <th>Open</th>\n",
       "      <th>High</th>\n",
       "      <th>Low</th>\n",
       "      <th>Last</th>\n",
       "      <th>Close</th>\n",
       "      <th>Total Trade Quantity</th>\n",
       "      <th>Turnover (Lacs)</th>\n",
       "    </tr>\n",
       "  </thead>\n",
       "  <tbody>\n",
       "    <tr>\n",
       "      <th>10</th>\n",
       "      <td>2018-12-17</td>\n",
       "      <td>1999.0</td>\n",
       "      <td>2004.9</td>\n",
       "      <td>1985.00</td>\n",
       "      <td>1992.90</td>\n",
       "      <td>1994.30</td>\n",
       "      <td>1227921.0</td>\n",
       "      <td>24482.95</td>\n",
       "    </tr>\n",
       "    <tr>\n",
       "      <th>11</th>\n",
       "      <td>2018-12-18</td>\n",
       "      <td>1991.9</td>\n",
       "      <td>2002.0</td>\n",
       "      <td>1976.40</td>\n",
       "      <td>1987.90</td>\n",
       "      <td>1987.85</td>\n",
       "      <td>1768742.0</td>\n",
       "      <td>35137.11</td>\n",
       "    </tr>\n",
       "    <tr>\n",
       "      <th>12</th>\n",
       "      <td>2018-12-19</td>\n",
       "      <td>1984.8</td>\n",
       "      <td>1984.8</td>\n",
       "      <td>1960.05</td>\n",
       "      <td>1970.80</td>\n",
       "      <td>1968.45</td>\n",
       "      <td>2498833.0</td>\n",
       "      <td>49198.05</td>\n",
       "    </tr>\n",
       "    <tr>\n",
       "      <th>13</th>\n",
       "      <td>2018-12-20</td>\n",
       "      <td>1953.8</td>\n",
       "      <td>1974.9</td>\n",
       "      <td>1946.00</td>\n",
       "      <td>1955.00</td>\n",
       "      <td>1954.05</td>\n",
       "      <td>1940277.0</td>\n",
       "      <td>37945.10</td>\n",
       "    </tr>\n",
       "    <tr>\n",
       "      <th>14</th>\n",
       "      <td>2018-12-21</td>\n",
       "      <td>1948.0</td>\n",
       "      <td>1950.0</td>\n",
       "      <td>1886.55</td>\n",
       "      <td>1905.00</td>\n",
       "      <td>1895.80</td>\n",
       "      <td>3729956.0</td>\n",
       "      <td>71360.52</td>\n",
       "    </tr>\n",
       "    <tr>\n",
       "      <th>15</th>\n",
       "      <td>2018-12-24</td>\n",
       "      <td>1905.8</td>\n",
       "      <td>1938.9</td>\n",
       "      <td>1905.00</td>\n",
       "      <td>1922.00</td>\n",
       "      <td>1918.50</td>\n",
       "      <td>1864116.0</td>\n",
       "      <td>35878.57</td>\n",
       "    </tr>\n",
       "    <tr>\n",
       "      <th>16</th>\n",
       "      <td>2018-12-26</td>\n",
       "      <td>1921.8</td>\n",
       "      <td>1921.8</td>\n",
       "      <td>1870.25</td>\n",
       "      <td>1892.00</td>\n",
       "      <td>1889.20</td>\n",
       "      <td>2446614.0</td>\n",
       "      <td>46112.98</td>\n",
       "    </tr>\n",
       "    <tr>\n",
       "      <th>17</th>\n",
       "      <td>2018-12-27</td>\n",
       "      <td>1909.0</td>\n",
       "      <td>1941.7</td>\n",
       "      <td>1872.10</td>\n",
       "      <td>1909.10</td>\n",
       "      <td>1908.95</td>\n",
       "      <td>4968201.0</td>\n",
       "      <td>95411.46</td>\n",
       "    </tr>\n",
       "    <tr>\n",
       "      <th>18</th>\n",
       "      <td>2018-12-28</td>\n",
       "      <td>1915.0</td>\n",
       "      <td>1920.0</td>\n",
       "      <td>1893.00</td>\n",
       "      <td>1897.00</td>\n",
       "      <td>1896.05</td>\n",
       "      <td>2239130.0</td>\n",
       "      <td>42708.38</td>\n",
       "    </tr>\n",
       "    <tr>\n",
       "      <th>19</th>\n",
       "      <td>2018-12-31</td>\n",
       "      <td>1908.0</td>\n",
       "      <td>1909.0</td>\n",
       "      <td>1886.15</td>\n",
       "      <td>1894.75</td>\n",
       "      <td>1893.05</td>\n",
       "      <td>1879740.0</td>\n",
       "      <td>35647.72</td>\n",
       "    </tr>\n",
       "  </tbody>\n",
       "</table>\n",
       "</div>"
      ],
      "text/plain": [
       "          Date    Open    High      Low     Last    Close  \\\n",
       "10  2018-12-17  1999.0  2004.9  1985.00  1992.90  1994.30   \n",
       "11  2018-12-18  1991.9  2002.0  1976.40  1987.90  1987.85   \n",
       "12  2018-12-19  1984.8  1984.8  1960.05  1970.80  1968.45   \n",
       "13  2018-12-20  1953.8  1974.9  1946.00  1955.00  1954.05   \n",
       "14  2018-12-21  1948.0  1950.0  1886.55  1905.00  1895.80   \n",
       "15  2018-12-24  1905.8  1938.9  1905.00  1922.00  1918.50   \n",
       "16  2018-12-26  1921.8  1921.8  1870.25  1892.00  1889.20   \n",
       "17  2018-12-27  1909.0  1941.7  1872.10  1909.10  1908.95   \n",
       "18  2018-12-28  1915.0  1920.0  1893.00  1897.00  1896.05   \n",
       "19  2018-12-31  1908.0  1909.0  1886.15  1894.75  1893.05   \n",
       "\n",
       "    Total Trade Quantity  Turnover (Lacs)  \n",
       "10             1227921.0         24482.95  \n",
       "11             1768742.0         35137.11  \n",
       "12             2498833.0         49198.05  \n",
       "13             1940277.0         37945.10  \n",
       "14             3729956.0         71360.52  \n",
       "15             1864116.0         35878.57  \n",
       "16             2446614.0         46112.98  \n",
       "17             4968201.0         95411.46  \n",
       "18             2239130.0         42708.38  \n",
       "19             1879740.0         35647.72  "
      ]
     },
     "execution_count": 5,
     "metadata": {},
     "output_type": "execute_result"
    }
   ],
   "source": [
    "df.tail(10)"
   ]
  },
  {
   "cell_type": "code",
   "execution_count": 6,
   "id": "5cd83865",
   "metadata": {},
   "outputs": [
    {
     "data": {
      "text/html": [
       "<div>\n",
       "<style scoped>\n",
       "    .dataframe tbody tr th:only-of-type {\n",
       "        vertical-align: middle;\n",
       "    }\n",
       "\n",
       "    .dataframe tbody tr th {\n",
       "        vertical-align: top;\n",
       "    }\n",
       "\n",
       "    .dataframe thead th {\n",
       "        text-align: right;\n",
       "    }\n",
       "</style>\n",
       "<table border=\"1\" class=\"dataframe\">\n",
       "  <thead>\n",
       "    <tr style=\"text-align: right;\">\n",
       "      <th></th>\n",
       "      <th>Open</th>\n",
       "      <th>High</th>\n",
       "      <th>Low</th>\n",
       "      <th>Last</th>\n",
       "      <th>Close</th>\n",
       "      <th>Total Trade Quantity</th>\n",
       "      <th>Turnover (Lacs)</th>\n",
       "    </tr>\n",
       "  </thead>\n",
       "  <tbody>\n",
       "    <tr>\n",
       "      <th>Open</th>\n",
       "      <td>1.000000</td>\n",
       "      <td>0.937777</td>\n",
       "      <td>0.925625</td>\n",
       "      <td>0.889651</td>\n",
       "      <td>0.886413</td>\n",
       "      <td>-0.145327</td>\n",
       "      <td>-0.091618</td>\n",
       "    </tr>\n",
       "    <tr>\n",
       "      <th>High</th>\n",
       "      <td>0.937777</td>\n",
       "      <td>1.000000</td>\n",
       "      <td>0.935803</td>\n",
       "      <td>0.946352</td>\n",
       "      <td>0.956137</td>\n",
       "      <td>-0.064046</td>\n",
       "      <td>-0.005265</td>\n",
       "    </tr>\n",
       "    <tr>\n",
       "      <th>Low</th>\n",
       "      <td>0.925625</td>\n",
       "      <td>0.935803</td>\n",
       "      <td>1.000000</td>\n",
       "      <td>0.964793</td>\n",
       "      <td>0.968353</td>\n",
       "      <td>-0.353678</td>\n",
       "      <td>-0.297565</td>\n",
       "    </tr>\n",
       "    <tr>\n",
       "      <th>Last</th>\n",
       "      <td>0.889651</td>\n",
       "      <td>0.946352</td>\n",
       "      <td>0.964793</td>\n",
       "      <td>1.000000</td>\n",
       "      <td>0.995482</td>\n",
       "      <td>-0.220357</td>\n",
       "      <td>-0.162985</td>\n",
       "    </tr>\n",
       "    <tr>\n",
       "      <th>Close</th>\n",
       "      <td>0.886413</td>\n",
       "      <td>0.956137</td>\n",
       "      <td>0.968353</td>\n",
       "      <td>0.995482</td>\n",
       "      <td>1.000000</td>\n",
       "      <td>-0.223675</td>\n",
       "      <td>-0.165647</td>\n",
       "    </tr>\n",
       "    <tr>\n",
       "      <th>Total Trade Quantity</th>\n",
       "      <td>-0.145327</td>\n",
       "      <td>-0.064046</td>\n",
       "      <td>-0.353678</td>\n",
       "      <td>-0.220357</td>\n",
       "      <td>-0.223675</td>\n",
       "      <td>1.000000</td>\n",
       "      <td>0.998061</td>\n",
       "    </tr>\n",
       "    <tr>\n",
       "      <th>Turnover (Lacs)</th>\n",
       "      <td>-0.091618</td>\n",
       "      <td>-0.005265</td>\n",
       "      <td>-0.297565</td>\n",
       "      <td>-0.162985</td>\n",
       "      <td>-0.165647</td>\n",
       "      <td>0.998061</td>\n",
       "      <td>1.000000</td>\n",
       "    </tr>\n",
       "  </tbody>\n",
       "</table>\n",
       "</div>"
      ],
      "text/plain": [
       "                          Open      High       Low      Last     Close  \\\n",
       "Open                  1.000000  0.937777  0.925625  0.889651  0.886413   \n",
       "High                  0.937777  1.000000  0.935803  0.946352  0.956137   \n",
       "Low                   0.925625  0.935803  1.000000  0.964793  0.968353   \n",
       "Last                  0.889651  0.946352  0.964793  1.000000  0.995482   \n",
       "Close                 0.886413  0.956137  0.968353  0.995482  1.000000   \n",
       "Total Trade Quantity -0.145327 -0.064046 -0.353678 -0.220357 -0.223675   \n",
       "Turnover (Lacs)      -0.091618 -0.005265 -0.297565 -0.162985 -0.165647   \n",
       "\n",
       "                      Total Trade Quantity  Turnover (Lacs)  \n",
       "Open                             -0.145327        -0.091618  \n",
       "High                             -0.064046        -0.005265  \n",
       "Low                              -0.353678        -0.297565  \n",
       "Last                             -0.220357        -0.162985  \n",
       "Close                            -0.223675        -0.165647  \n",
       "Total Trade Quantity              1.000000         0.998061  \n",
       "Turnover (Lacs)                   0.998061         1.000000  "
      ]
     },
     "execution_count": 6,
     "metadata": {},
     "output_type": "execute_result"
    }
   ],
   "source": [
    "df.corr()"
   ]
  },
  {
   "cell_type": "code",
   "execution_count": 7,
   "id": "d5f4c6d8",
   "metadata": {},
   "outputs": [
    {
     "name": "stdout",
     "output_type": "stream",
     "text": [
      "<class 'pandas.core.frame.DataFrame'>\n",
      "RangeIndex: 20 entries, 0 to 19\n",
      "Data columns (total 8 columns):\n",
      " #   Column                Non-Null Count  Dtype  \n",
      "---  ------                --------------  -----  \n",
      " 0   Date                  20 non-null     object \n",
      " 1   Open                  20 non-null     float64\n",
      " 2   High                  20 non-null     float64\n",
      " 3   Low                   20 non-null     float64\n",
      " 4   Last                  20 non-null     float64\n",
      " 5   Close                 20 non-null     float64\n",
      " 6   Total Trade Quantity  20 non-null     float64\n",
      " 7   Turnover (Lacs)       20 non-null     float64\n",
      "dtypes: float64(7), object(1)\n",
      "memory usage: 1.4+ KB\n"
     ]
    },
    {
     "data": {
      "text/plain": [
       "Date                    0\n",
       "Open                    0\n",
       "High                    0\n",
       "Low                     0\n",
       "Last                    0\n",
       "Close                   0\n",
       "Total Trade Quantity    0\n",
       "Turnover (Lacs)         0\n",
       "dtype: int64"
      ]
     },
     "execution_count": 7,
     "metadata": {},
     "output_type": "execute_result"
    }
   ],
   "source": [
    "df.info()\n",
    "df.isnull().sum()"
   ]
  },
  {
   "cell_type": "code",
   "execution_count": 8,
   "id": "57e90ec8",
   "metadata": {},
   "outputs": [
    {
     "data": {
      "text/html": [
       "<div>\n",
       "<style scoped>\n",
       "    .dataframe tbody tr th:only-of-type {\n",
       "        vertical-align: middle;\n",
       "    }\n",
       "\n",
       "    .dataframe tbody tr th {\n",
       "        vertical-align: top;\n",
       "    }\n",
       "\n",
       "    .dataframe thead th {\n",
       "        text-align: right;\n",
       "    }\n",
       "</style>\n",
       "<table border=\"1\" class=\"dataframe\">\n",
       "  <thead>\n",
       "    <tr style=\"text-align: right;\">\n",
       "      <th></th>\n",
       "      <th>Date</th>\n",
       "      <th>Open</th>\n",
       "      <th>High</th>\n",
       "      <th>Low</th>\n",
       "      <th>Last</th>\n",
       "      <th>Close</th>\n",
       "      <th>Total Trade Quantity</th>\n",
       "      <th>Turnover (Lacs)</th>\n",
       "    </tr>\n",
       "  </thead>\n",
       "  <tbody>\n",
       "  </tbody>\n",
       "</table>\n",
       "</div>"
      ],
      "text/plain": [
       "Empty DataFrame\n",
       "Columns: [Date, Open, High, Low, Last, Close, Total Trade Quantity, Turnover (Lacs)]\n",
       "Index: []"
      ]
     },
     "execution_count": 8,
     "metadata": {},
     "output_type": "execute_result"
    }
   ],
   "source": [
    "df[df.isnull().any(axis=1)]"
   ]
  },
  {
   "cell_type": "code",
   "execution_count": 9,
   "id": "a7159797",
   "metadata": {},
   "outputs": [
    {
     "data": {
      "text/html": [
       "<div>\n",
       "<style scoped>\n",
       "    .dataframe tbody tr th:only-of-type {\n",
       "        vertical-align: middle;\n",
       "    }\n",
       "\n",
       "    .dataframe tbody tr th {\n",
       "        vertical-align: top;\n",
       "    }\n",
       "\n",
       "    .dataframe thead th {\n",
       "        text-align: right;\n",
       "    }\n",
       "</style>\n",
       "<table border=\"1\" class=\"dataframe\">\n",
       "  <thead>\n",
       "    <tr style=\"text-align: right;\">\n",
       "      <th></th>\n",
       "      <th>Date</th>\n",
       "      <th>Open</th>\n",
       "      <th>High</th>\n",
       "      <th>Low</th>\n",
       "      <th>Last</th>\n",
       "      <th>Close</th>\n",
       "      <th>Total Trade Quantity</th>\n",
       "      <th>Turnover (Lacs)</th>\n",
       "    </tr>\n",
       "  </thead>\n",
       "  <tbody>\n",
       "    <tr>\n",
       "      <th>0</th>\n",
       "      <td>2018-12-03</td>\n",
       "      <td>1984.0</td>\n",
       "      <td>1990.0</td>\n",
       "      <td>1968.3</td>\n",
       "      <td>1984.00</td>\n",
       "      <td>1982.40</td>\n",
       "      <td>1610576.0</td>\n",
       "      <td>31868.00</td>\n",
       "    </tr>\n",
       "    <tr>\n",
       "      <th>1</th>\n",
       "      <td>2018-12-04</td>\n",
       "      <td>1983.0</td>\n",
       "      <td>2019.4</td>\n",
       "      <td>1971.0</td>\n",
       "      <td>2009.85</td>\n",
       "      <td>2010.85</td>\n",
       "      <td>3270615.0</td>\n",
       "      <td>65568.23</td>\n",
       "    </tr>\n",
       "    <tr>\n",
       "      <th>2</th>\n",
       "      <td>2018-12-05</td>\n",
       "      <td>2006.0</td>\n",
       "      <td>2018.0</td>\n",
       "      <td>1985.0</td>\n",
       "      <td>2003.90</td>\n",
       "      <td>2006.75</td>\n",
       "      <td>2501539.0</td>\n",
       "      <td>50131.23</td>\n",
       "    </tr>\n",
       "  </tbody>\n",
       "</table>\n",
       "</div>"
      ],
      "text/plain": [
       "         Date    Open    High     Low     Last    Close  Total Trade Quantity  \\\n",
       "0  2018-12-03  1984.0  1990.0  1968.3  1984.00  1982.40             1610576.0   \n",
       "1  2018-12-04  1983.0  2019.4  1971.0  2009.85  2010.85             3270615.0   \n",
       "2  2018-12-05  2006.0  2018.0  1985.0  2003.90  2006.75             2501539.0   \n",
       "\n",
       "   Turnover (Lacs)  \n",
       "0         31868.00  \n",
       "1         65568.23  \n",
       "2         50131.23  "
      ]
     },
     "execution_count": 9,
     "metadata": {},
     "output_type": "execute_result"
    }
   ],
   "source": [
    "df.head(3)"
   ]
  },
  {
   "cell_type": "code",
   "execution_count": 10,
   "id": "2b64d5e7",
   "metadata": {},
   "outputs": [
    {
     "data": {
      "text/plain": [
       "<AxesSubplot:ylabel='Frequency'>"
      ]
     },
     "execution_count": 10,
     "metadata": {},
     "output_type": "execute_result"
    },
    {
     "data": {
      "image/png": "[encoded data removed]",
      "text/plain": [
       "<Figure size 432x288 with 1 Axes>"
      ]
     },
     "metadata": {
      "needs_background": "light"
     },
     "output_type": "display_data"
    }
   ],
   "source": [
    "#DATA VISUALIZATION\n",
    "df.plot.hist()"
   ]
  },
  {
   "cell_type": "code",
   "execution_count": 12,
   "id": "ac1d3ca6",
   "metadata": {},
   "outputs": [
    {
     "data": {
      "text/html": [
       "<div>\n",
       "<style scoped>\n",
       "    .dataframe tbody tr th:only-of-type {\n",
       "        vertical-align: middle;\n",
       "    }\n",
       "\n",
       "    .dataframe tbody tr th {\n",
       "        vertical-align: top;\n",
       "    }\n",
       "\n",
       "    .dataframe thead th {\n",
       "        text-align: right;\n",
       "    }\n",
       "</style>\n",
       "<table border=\"1\" class=\"dataframe\">\n",
       "  <thead>\n",
       "    <tr style=\"text-align: right;\">\n",
       "      <th></th>\n",
       "      <th>Date</th>\n",
       "      <th>Open</th>\n",
       "      <th>High</th>\n",
       "      <th>Low</th>\n",
       "      <th>Last</th>\n",
       "      <th>Close</th>\n",
       "      <th>Total Trade Quantity</th>\n",
       "      <th>Turnover (Lacs)</th>\n",
       "    </tr>\n",
       "  </thead>\n",
       "  <tbody>\n",
       "    <tr>\n",
       "      <th>0</th>\n",
       "      <td>2018-12-03</td>\n",
       "      <td>1984.0</td>\n",
       "      <td>1990.0</td>\n",
       "      <td>1968.3</td>\n",
       "      <td>1984.0</td>\n",
       "      <td>1982.4</td>\n",
       "      <td>1610576.0</td>\n",
       "      <td>31868.0</td>\n",
       "    </tr>\n",
       "  </tbody>\n",
       "</table>\n",
       "</div>"
      ],
      "text/plain": [
       "         Date    Open    High     Low    Last   Close  Total Trade Quantity  \\\n",
       "0  2018-12-03  1984.0  1990.0  1968.3  1984.0  1982.4             1610576.0   \n",
       "\n",
       "   Turnover (Lacs)  \n",
       "0          31868.0  "
      ]
     },
     "execution_count": 12,
     "metadata": {},
     "output_type": "execute_result"
    }
   ],
   "source": [
    "df.head(1)"
   ]
  },
  {
   "cell_type": "code",
   "execution_count": 11,
   "id": "7b77c792",
   "metadata": {},
   "outputs": [
    {
     "name": "stderr",
     "output_type": "stream",
     "text": [
      "C:\\Users\\NAViN\\anaconda3\\lib\\site-packages\\seaborn\\_decorators.py:36: FutureWarning: Pass the following variable as a keyword arg: x. From version 0.12, the only valid positional argument will be `data`, and passing other arguments without an explicit keyword will result in an error or misinterpretation.\n",
      "  warnings.warn(\n"
     ]
    },
    {
     "ename": "NameError",
     "evalue": "name 'plot' is not defined",
     "output_type": "error",
     "traceback": [
      "\u001b[1;31m---------------------------------------------------------------------------\u001b[0m",
      "\u001b[1;31mNameError\u001b[0m                                 Traceback (most recent call last)",
      "\u001b[1;32m~\\AppData\\Local\\Temp/ipykernel_14800/1121766510.py\u001b[0m in \u001b[0;36m<module>\u001b[1;34m\u001b[0m\n\u001b[0;32m      6\u001b[0m \u001b[1;31m#sns.countplot(df.TotalTrade Quantity)\u001b[0m\u001b[1;33m\u001b[0m\u001b[1;33m\u001b[0m\u001b[0m\n\u001b[0;32m      7\u001b[0m \u001b[1;31m#sns.countplot(df.Turnover(Lacs))\u001b[0m\u001b[1;33m\u001b[0m\u001b[1;33m\u001b[0m\u001b[0m\n\u001b[1;32m----> 8\u001b[1;33m \u001b[0mplot\u001b[0m\u001b[1;33m.\u001b[0m\u001b[0mshow\u001b[0m\u001b[1;33m(\u001b[0m\u001b[1;33m)\u001b[0m\u001b[1;33m\u001b[0m\u001b[1;33m\u001b[0m\u001b[0m\n\u001b[0m",
      "\u001b[1;31mNameError\u001b[0m: name 'plot' is not defined"
     ]
    },
    {
     "data": {
      "image/png": "[encoded data removed]",
      "text/plain": [
       "<Figure size 432x288 with 1 Axes>"
      ]
     },
     "metadata": {
      "needs_background": "light"
     },
     "output_type": "display_data"
    }
   ],
   "source": [
    "#sns.countplot(df.Data)\n",
    "#sns.countplot(df.Open)\n",
    "#sns.countplot(df.High)\n",
    "sns.countplot(df.Low)\n",
    "#sns.countplot(df.Close)\n",
    "#sns.countplot(df.TotalTrade Quantity)\n",
    "#sns.countplot(df.Turnover(Lacs))\n",
    "plot.show()"
   ]
  },
  {
   "cell_type": "code",
   "execution_count": 13,
   "id": "49321e07",
   "metadata": {},
   "outputs": [
    {
     "data": {
      "text/html": [
       "<div>\n",
       "<style scoped>\n",
       "    .dataframe tbody tr th:only-of-type {\n",
       "        vertical-align: middle;\n",
       "    }\n",
       "\n",
       "    .dataframe tbody tr th {\n",
       "        vertical-align: top;\n",
       "    }\n",
       "\n",
       "    .dataframe thead th {\n",
       "        text-align: right;\n",
       "    }\n",
       "</style>\n",
       "<table border=\"1\" class=\"dataframe\">\n",
       "  <thead>\n",
       "    <tr style=\"text-align: right;\">\n",
       "      <th></th>\n",
       "      <th>Date</th>\n",
       "      <th>Open</th>\n",
       "      <th>High</th>\n",
       "      <th>Low</th>\n",
       "      <th>Last</th>\n",
       "      <th>Close</th>\n",
       "      <th>Total Trade Quantity</th>\n",
       "      <th>Turnover (Lacs)</th>\n",
       "    </tr>\n",
       "  </thead>\n",
       "  <tbody>\n",
       "    <tr>\n",
       "      <th>0</th>\n",
       "      <td>2018-12-03</td>\n",
       "      <td>1984.0</td>\n",
       "      <td>1990.0</td>\n",
       "      <td>1968.3</td>\n",
       "      <td>1984.0</td>\n",
       "      <td>1982.4</td>\n",
       "      <td>1610576.0</td>\n",
       "      <td>31868.0</td>\n",
       "    </tr>\n",
       "  </tbody>\n",
       "</table>\n",
       "</div>"
      ],
      "text/plain": [
       "         Date    Open    High     Low    Last   Close  Total Trade Quantity  \\\n",
       "0  2018-12-03  1984.0  1990.0  1968.3  1984.0  1982.4             1610576.0   \n",
       "\n",
       "   Turnover (Lacs)  \n",
       "0          31868.0  "
      ]
     },
     "execution_count": 13,
     "metadata": {},
     "output_type": "execute_result"
    }
   ],
   "source": [
    "df.head(1)"
   ]
  },
  {
   "cell_type": "code",
   "execution_count": 14,
   "id": "6e71ff27",
   "metadata": {},
   "outputs": [
    {
     "data": {
      "text/plain": [
       "<AxesSubplot:xlabel='Open', ylabel='Close'>"
      ]
     },
     "execution_count": 14,
     "metadata": {},
     "output_type": "execute_result"
    },
    {
     "data": {
      "image/png": "[encoded data removed]",
      "text/plain": [
       "<Figure size 432x288 with 1 Axes>"
      ]
     },
     "metadata": {
      "needs_background": "light"
     },
     "output_type": "display_data"
    }
   ],
   "source": [
    "sns.lineplot(x = df[\"Open\"] , y = df[\"Close\"])  #Blue\n",
    "sns.lineplot(x = df[\"Open\"] , y = df[\"High\"])  #Orange\n",
    "sns.lineplot(x = df[\"Open\"] , y = df[\"Low\"]) #Green\n",
    "sns.lineplot(x = df[\"Open\"] , y = df[\"Last\"]) #red"
   ]
  },
  {
   "cell_type": "code",
   "execution_count": 15,
   "id": "557e365f",
   "metadata": {},
   "outputs": [
    {
     "data": {
      "image/png": "[encoded data removed]",
      "text/plain": [
       "<Figure size 1224x576 with 2 Axes>"
      ]
     },
     "metadata": {
      "needs_background": "light"
     },
     "output_type": "display_data"
    }
   ],
   "source": [
    "plt.figure(1 , figsize = (17 , 8))\n",
    "cor = sns.heatmap(df.corr(), annot = True)"
   ]
  },
  {
   "cell_type": "code",
   "execution_count": null,
   "id": "2a5fdd62",
   "metadata": {},
   "outputs": [],
   "source": [
    "Now we have to divide data in Dependent and Independent variable\n",
    "\n",
    "We can see Date column in useul for our prediction but for simplicity we have to remove it because date format is not proper\n",
    "\n",
    "Now we have to predict open price so this column is out dependent variable because open price depend on High,Low,Close,Last,Turnover etc..."
   ]
  },
  {
   "cell_type": "code",
   "execution_count": 16,
   "id": "25ac7965",
   "metadata": {},
   "outputs": [],
   "source": [
    "x = df.loc[:,'High':'Turnover (Lacs)']\n",
    "y = df.loc[:,'Open']"
   ]
  },
  {
   "cell_type": "code",
   "execution_count": 17,
   "id": "dabad892",
   "metadata": {},
   "outputs": [
    {
     "data": {
      "text/plain": [
       "0    1984.00\n",
       "1    1983.00\n",
       "2    2006.00\n",
       "3    1998.00\n",
       "4    1985.05\n",
       "Name: Open, dtype: float64"
      ]
     },
     "execution_count": 17,
     "metadata": {},
     "output_type": "execute_result"
    }
   ],
   "source": [
    "y.head(5)"
   ]
  },
  {
   "cell_type": "code",
   "execution_count": 18,
   "id": "99d99990",
   "metadata": {},
   "outputs": [
    {
     "data": {
      "text/html": [
       "<div>\n",
       "<style scoped>\n",
       "    .dataframe tbody tr th:only-of-type {\n",
       "        vertical-align: middle;\n",
       "    }\n",
       "\n",
       "    .dataframe tbody tr th {\n",
       "        vertical-align: top;\n",
       "    }\n",
       "\n",
       "    .dataframe thead th {\n",
       "        text-align: right;\n",
       "    }\n",
       "</style>\n",
       "<table border=\"1\" class=\"dataframe\">\n",
       "  <thead>\n",
       "    <tr style=\"text-align: right;\">\n",
       "      <th></th>\n",
       "      <th>High</th>\n",
       "      <th>Low</th>\n",
       "      <th>Last</th>\n",
       "      <th>Close</th>\n",
       "      <th>Total Trade Quantity</th>\n",
       "      <th>Turnover (Lacs)</th>\n",
       "    </tr>\n",
       "  </thead>\n",
       "  <tbody>\n",
       "    <tr>\n",
       "      <th>0</th>\n",
       "      <td>1990.0</td>\n",
       "      <td>1968.3</td>\n",
       "      <td>1984.00</td>\n",
       "      <td>1982.40</td>\n",
       "      <td>1610576.0</td>\n",
       "      <td>31868.00</td>\n",
       "    </tr>\n",
       "    <tr>\n",
       "      <th>1</th>\n",
       "      <td>2019.4</td>\n",
       "      <td>1971.0</td>\n",
       "      <td>2009.85</td>\n",
       "      <td>2010.85</td>\n",
       "      <td>3270615.0</td>\n",
       "      <td>65568.23</td>\n",
       "    </tr>\n",
       "  </tbody>\n",
       "</table>\n",
       "</div>"
      ],
      "text/plain": [
       "     High     Low     Last    Close  Total Trade Quantity  Turnover (Lacs)\n",
       "0  1990.0  1968.3  1984.00  1982.40             1610576.0         31868.00\n",
       "1  2019.4  1971.0  2009.85  2010.85             3270615.0         65568.23"
      ]
     },
     "execution_count": 18,
     "metadata": {},
     "output_type": "execute_result"
    }
   ],
   "source": [
    "x.head(2)"
   ]
  },
  {
   "cell_type": "code",
   "execution_count": 19,
   "id": "8881e57c",
   "metadata": {},
   "outputs": [],
   "source": [
    "from sklearn.model_selection import train_test_split\n",
    "x_train,x_test,y_train,y_test = train_test_split(x,y,test_size = 0.1,random_state = 0)"
   ]
  },
  {
   "cell_type": "code",
   "execution_count": 20,
   "id": "9e48a89a",
   "metadata": {},
   "outputs": [],
   "source": [
    "from sklearn.linear_model import LinearRegression"
   ]
  },
  {
   "cell_type": "code",
   "execution_count": 21,
   "id": "4398889b",
   "metadata": {},
   "outputs": [
    {
     "data": {
      "text/plain": [
       "0.9997647484047201"
      ]
     },
     "execution_count": 21,
     "metadata": {},
     "output_type": "execute_result"
    }
   ],
   "source": [
    "LR = LinearRegression()\n",
    "LR.fit(x_train,y_train)\n",
    "LinearRegression(copy_X=True, fit_intercept=True, n_jobs=None,\n",
    "         normalize=False)\n",
    "LR.score(x_test,y_test)\n",
    "LR.score(x_test,y_test)"
   ]
  },
  {
   "cell_type": "code",
   "execution_count": 22,
   "id": "84e55afe",
   "metadata": {},
   "outputs": [
    {
     "data": {
      "text/plain": [
       "[<matplotlib.lines.Line2D at 0x199fdcca8b0>,\n",
       " <matplotlib.lines.Line2D at 0x199fdcca8e0>,\n",
       " <matplotlib.lines.Line2D at 0x199fdc877f0>,\n",
       " <matplotlib.lines.Line2D at 0x199fdccaa00>,\n",
       " <matplotlib.lines.Line2D at 0x199fdccac10>,\n",
       " <matplotlib.lines.Line2D at 0x199fdccad30>]"
      ]
     },
     "execution_count": 22,
     "metadata": {},
     "output_type": "execute_result"
    },
    {
     "data": {
      "image/png": "[encoded data removed]",
      "text/plain": [
       "<Figure size 432x288 with 1 Axes>"
      ]
     },
     "metadata": {
      "needs_background": "light"
     },
     "output_type": "display_data"
    }
   ],
   "source": [
    "plt.plot(y_test)#Blue\n",
    "\n",
    "plt.plot(x_test)#purple\n",
    "\n",
    "\n",
    "plt.plot(y_train)#orange\n",
    "\n",
    "plt.plot(x_train)\n"
   ]
  },
  {
   "cell_type": "code",
   "execution_count": 23,
   "id": "3ff09f51",
   "metadata": {},
   "outputs": [],
   "source": [
    "from sklearn.linear_model import LogisticRegression\n",
    "from sklearn.model_selection import train_test_split\n",
    "from sklearn.metrics import mean_absolute_error,median_absolute_error,classification_report ,accuracy_score"
   ]
  },
  {
   "cell_type": "code",
   "execution_count": 24,
   "id": "d1c2a25a",
   "metadata": {},
   "outputs": [],
   "source": [
    "Lo = LogisticRegression()\n",
    "X_train,X_test,Y_train,Y_test = train_test_split(x,y,test_size=0.4,random_state=10)"
   ]
  },
  {
   "cell_type": "code",
   "execution_count": 25,
   "id": "7110ab6b",
   "metadata": {},
   "outputs": [
    {
     "data": {
      "text/plain": [
       "0     1984.00\n",
       "1     1983.00\n",
       "2     2006.00\n",
       "3     1998.00\n",
       "4     1985.05\n",
       "5     1975.00\n",
       "6     1970.00\n",
       "7     2001.10\n",
       "8     2024.00\n",
       "9     1983.00\n",
       "10    1999.00\n",
       "11    1991.90\n",
       "12    1984.80\n",
       "13    1953.80\n",
       "14    1948.00\n",
       "15    1905.80\n",
       "16    1921.80\n",
       "17    1909.00\n",
       "18    1915.00\n",
       "19    1908.00\n",
       "Name: Open, dtype: float64"
      ]
     },
     "execution_count": 25,
     "metadata": {},
     "output_type": "execute_result"
    }
   ],
   "source": [
    "#Lo.fit(X_train,Y_train)\n",
    "y"
   ]
  },
  {
   "cell_type": "code",
   "execution_count": 26,
   "id": "3e060b79",
   "metadata": {},
   "outputs": [
    {
     "data": {
      "text/plain": [
       "(20,)"
      ]
     },
     "execution_count": 26,
     "metadata": {},
     "output_type": "execute_result"
    }
   ],
   "source": [
    "x.shape\n",
    "y.shape\n",
    "#df.target_names"
   ]
  },
  {
   "cell_type": "code",
   "execution_count": null,
   "id": "fa0a4796",
   "metadata": {},
   "outputs": [],
   "source": []
  },
  {
   "cell_type": "code",
   "execution_count": null,
   "id": "e1e3a696",
   "metadata": {},
   "outputs": [],
   "source": []
  }
 ],
 "metadata": {
  "kernelspec": {
   "display_name": "Python 3 (ipykernel)",
   "language": "python",
   "name": "python3"
  },
  "language_info": {
   "codemirror_mode": {
    "name": "ipython",
    "version": 3
   },
   "file_extension": ".py",
   "mimetype": "text/x-python",
   "name": "python",
   "nbconvert_exporter": "python",
   "pygments_lexer": "ipython3",
   "version": "3.9.7"
  }
 },
 "nbformat": 4,
 "nbformat_minor": 5
}
